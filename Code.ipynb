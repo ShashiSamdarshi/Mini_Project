{
  "nbformat": 4,
  "nbformat_minor": 0,
  "metadata": {
    "colab": {
      "name": "Code.ipynb",
      "provenance": [],
      "collapsed_sections": []
    },
    "kernelspec": {
      "name": "python3",
      "display_name": "Python 3"
    },
    "language_info": {
      "name": "python"
    }
  },
  "cells": [
    {
      "cell_type": "code",
      "source": [
        "'''\n",
        "PERSONAL DETAILS:\n",
        "NAME - MR SHASHI KUMAR SAMDARSHI\n",
        "\n",
        "TITLE OF MINI PROJECT - RATING PREDICTION USING SUPERVISED MACHINE LEARNING TECHNIQUES\n",
        "\n",
        "'''"
      ],
      "metadata": {
        "id": "oZ5xuVUlZBiC",
        "colab": {
          "base_uri": "https://localhost:8080/",
          "height": 36
        },
        "outputId": "f82ec528-be17-4d6b-a5a3-a4e72c23624b"
      },
      "execution_count": null,
      "outputs": [
        {
          "output_type": "execute_result",
          "data": {
            "text/plain": [
              "'\\nName-Shashi Kumar Samdarshi\\n\\n\\n'"
            ],
            "application/vnd.google.colaboratory.intrinsic+json": {
              "type": "string"
            }
          },
          "metadata": {},
          "execution_count": 2
        }
      ]
    },
    {
      "cell_type": "code",
      "source": [
        "!jupyter nbconvert --to html /Report_(Advance_Machine_Learning.ipynb"
      ],
      "metadata": {
        "colab": {
          "base_uri": "https://localhost:8080/"
        },
        "id": "caanPXOwyFax",
        "outputId": "cabdf683-6445-4269-9347-053c7e6ce9b3"
      },
      "execution_count": null,
      "outputs": [
        {
          "output_type": "stream",
          "name": "stdout",
          "text": [
            "/bin/bash: -c: line 0: syntax error near unexpected token `('\n",
            "/bin/bash: -c: line 0: `jupyter nbconvert --to html /Report_(Advance_Machine_Learning.ipynb'\n"
          ]
        }
      ]
    },
    {
      "cell_type": "markdown",
      "source": [
        "Step-1 :\n",
        "Insert data"
      ],
      "metadata": {
        "id": "ZGFvz0Kiy3dr"
      }
    },
    {
      "cell_type": "code",
      "source": [
        "import pandas as pd\n",
        "from google.colab import files\n",
        "uploaded = files.upload()\n",
        "import io\n",
        "df=pd.read_csv(io.BytesIO(uploaded['reviews.csv']))"
      ],
      "metadata": {
        "id": "cP0pv3W-Uwax",
        "colab": {
          "resources": {
            "http://localhost:8080/nbextensions/google.colab/files.js": {
              "data": "Ly8gQ29weXJpZ2h0IDIwMTcgR29vZ2xlIExMQwovLwovLyBMaWNlbnNlZCB1bmRlciB0aGUgQXBhY2hlIExpY2Vuc2UsIFZlcnNpb24gMi4wICh0aGUgIkxpY2Vuc2UiKTsKLy8geW91IG1heSBub3QgdXNlIHRoaXMgZmlsZSBleGNlcHQgaW4gY29tcGxpYW5jZSB3aXRoIHRoZSBMaWNlbnNlLgovLyBZb3UgbWF5IG9idGFpbiBhIGNvcHkgb2YgdGhlIExpY2Vuc2UgYXQKLy8KLy8gICAgICBodHRwOi8vd3d3LmFwYWNoZS5vcmcvbGljZW5zZXMvTElDRU5TRS0yLjAKLy8KLy8gVW5sZXNzIHJlcXVpcmVkIGJ5IGFwcGxpY2FibGUgbGF3IG9yIGFncmVlZCB0byBpbiB3cml0aW5nLCBzb2Z0d2FyZQovLyBkaXN0cmlidXRlZCB1bmRlciB0aGUgTGljZW5zZSBpcyBkaXN0cmlidXRlZCBvbiBhbiAiQVMgSVMiIEJBU0lTLAovLyBXSVRIT1VUIFdBUlJBTlRJRVMgT1IgQ09ORElUSU9OUyBPRiBBTlkgS0lORCwgZWl0aGVyIGV4cHJlc3Mgb3IgaW1wbGllZC4KLy8gU2VlIHRoZSBMaWNlbnNlIGZvciB0aGUgc3BlY2lmaWMgbGFuZ3VhZ2UgZ292ZXJuaW5nIHBlcm1pc3Npb25zIGFuZAovLyBsaW1pdGF0aW9ucyB1bmRlciB0aGUgTGljZW5zZS4KCi8qKgogKiBAZmlsZW92ZXJ2aWV3IEhlbHBlcnMgZm9yIGdvb2dsZS5jb2xhYiBQeXRob24gbW9kdWxlLgogKi8KKGZ1bmN0aW9uKHNjb3BlKSB7CmZ1bmN0aW9uIHNwYW4odGV4dCwgc3R5bGVBdHRyaWJ1dGVzID0ge30pIHsKICBjb25zdCBlbGVtZW50ID0gZG9jdW1lbnQuY3JlYXRlRWxlbWVudCgnc3BhbicpOwogIGVsZW1lbnQudGV4dENvbnRlbnQgPSB0ZXh0OwogIGZvciAoY29uc3Qga2V5IG9mIE9iamVjdC5rZXlzKHN0eWxlQXR0cmlidXRlcykpIHsKICAgIGVsZW1lbnQuc3R5bGVba2V5XSA9IHN0eWxlQXR0cmlidXRlc1trZXldOwogIH0KICByZXR1cm4gZWxlbWVudDsKfQoKLy8gTWF4IG51bWJlciBvZiBieXRlcyB3aGljaCB3aWxsIGJlIHVwbG9hZGVkIGF0IGEgdGltZS4KY29uc3QgTUFYX1BBWUxPQURfU0laRSA9IDEwMCAqIDEwMjQ7CgpmdW5jdGlvbiBfdXBsb2FkRmlsZXMoaW5wdXRJZCwgb3V0cHV0SWQpIHsKICBjb25zdCBzdGVwcyA9IHVwbG9hZEZpbGVzU3RlcChpbnB1dElkLCBvdXRwdXRJZCk7CiAgY29uc3Qgb3V0cHV0RWxlbWVudCA9IGRvY3VtZW50LmdldEVsZW1lbnRCeUlkKG91dHB1dElkKTsKICAvLyBDYWNoZSBzdGVwcyBvbiB0aGUgb3V0cHV0RWxlbWVudCB0byBtYWtlIGl0IGF2YWlsYWJsZSBmb3IgdGhlIG5leHQgY2FsbAogIC8vIHRvIHVwbG9hZEZpbGVzQ29udGludWUgZnJvbSBQeXRob24uCiAgb3V0cHV0RWxlbWVudC5zdGVwcyA9IHN0ZXBzOwoKICByZXR1cm4gX3VwbG9hZEZpbGVzQ29udGludWUob3V0cHV0SWQpOwp9CgovLyBUaGlzIGlzIHJvdWdobHkgYW4gYXN5bmMgZ2VuZXJhdG9yIChub3Qgc3VwcG9ydGVkIGluIHRoZSBicm93c2VyIHlldCksCi8vIHdoZXJlIHRoZXJlIGFyZSBtdWx0aXBsZSBhc3luY2hyb25vdXMgc3RlcHMgYW5kIHRoZSBQeXRob24gc2lkZSBpcyBnb2luZwovLyB0byBwb2xsIGZvciBjb21wbGV0aW9uIG9mIGVhY2ggc3RlcC4KLy8gVGhpcyB1c2VzIGEgUHJvbWlzZSB0byBibG9jayB0aGUgcHl0aG9uIHNpZGUgb24gY29tcGxldGlvbiBvZiBlYWNoIHN0ZXAsCi8vIHRoZW4gcGFzc2VzIHRoZSByZXN1bHQgb2YgdGhlIHByZXZpb3VzIHN0ZXAgYXMgdGhlIGlucHV0IHRvIHRoZSBuZXh0IHN0ZXAuCmZ1bmN0aW9uIF91cGxvYWRGaWxlc0NvbnRpbnVlKG91dHB1dElkKSB7CiAgY29uc3Qgb3V0cHV0RWxlbWVudCA9IGRvY3VtZW50LmdldEVsZW1lbnRCeUlkKG91dHB1dElkKTsKICBjb25zdCBzdGVwcyA9IG91dHB1dEVsZW1lbnQuc3RlcHM7CgogIGNvbnN0IG5leHQgPSBzdGVwcy5uZXh0KG91dHB1dEVsZW1lbnQubGFzdFByb21pc2VWYWx1ZSk7CiAgcmV0dXJuIFByb21pc2UucmVzb2x2ZShuZXh0LnZhbHVlLnByb21pc2UpLnRoZW4oKHZhbHVlKSA9PiB7CiAgICAvLyBDYWNoZSB0aGUgbGFzdCBwcm9taXNlIHZhbHVlIHRvIG1ha2UgaXQgYXZhaWxhYmxlIHRvIHRoZSBuZXh0CiAgICAvLyBzdGVwIG9mIHRoZSBnZW5lcmF0b3IuCiAgICBvdXRwdXRFbGVtZW50Lmxhc3RQcm9taXNlVmFsdWUgPSB2YWx1ZTsKICAgIHJldHVybiBuZXh0LnZhbHVlLnJlc3BvbnNlOwogIH0pOwp9CgovKioKICogR2VuZXJhdG9yIGZ1bmN0aW9uIHdoaWNoIGlzIGNhbGxlZCBiZXR3ZWVuIGVhY2ggYXN5bmMgc3RlcCBvZiB0aGUgdXBsb2FkCiAqIHByb2Nlc3MuCiAqIEBwYXJhbSB7c3RyaW5nfSBpbnB1dElkIEVsZW1lbnQgSUQgb2YgdGhlIGlucHV0IGZpbGUgcGlja2VyIGVsZW1lbnQuCiAqIEBwYXJhbSB7c3RyaW5nfSBvdXRwdXRJZCBFbGVtZW50IElEIG9mIHRoZSBvdXRwdXQgZGlzcGxheS4KICogQHJldHVybiB7IUl0ZXJhYmxlPCFPYmplY3Q+fSBJdGVyYWJsZSBvZiBuZXh0IHN0ZXBzLgogKi8KZnVuY3Rpb24qIHVwbG9hZEZpbGVzU3RlcChpbnB1dElkLCBvdXRwdXRJZCkgewogIGNvbnN0IGlucHV0RWxlbWVudCA9IGRvY3VtZW50LmdldEVsZW1lbnRCeUlkKGlucHV0SWQpOwogIGlucHV0RWxlbWVudC5kaXNhYmxlZCA9IGZhbHNlOwoKICBjb25zdCBvdXRwdXRFbGVtZW50ID0gZG9jdW1lbnQuZ2V0RWxlbWVudEJ5SWQob3V0cHV0SWQpOwogIG91dHB1dEVsZW1lbnQuaW5uZXJIVE1MID0gJyc7CgogIGNvbnN0IHBpY2tlZFByb21pc2UgPSBuZXcgUHJvbWlzZSgocmVzb2x2ZSkgPT4gewogICAgaW5wdXRFbGVtZW50LmFkZEV2ZW50TGlzdGVuZXIoJ2NoYW5nZScsIChlKSA9PiB7CiAgICAgIHJlc29sdmUoZS50YXJnZXQuZmlsZXMpOwogICAgfSk7CiAgfSk7CgogIGNvbnN0IGNhbmNlbCA9IGRvY3VtZW50LmNyZWF0ZUVsZW1lbnQoJ2J1dHRvbicpOwogIGlucHV0RWxlbWVudC5wYXJlbnRFbGVtZW50LmFwcGVuZENoaWxkKGNhbmNlbCk7CiAgY2FuY2VsLnRleHRDb250ZW50ID0gJ0NhbmNlbCB1cGxvYWQnOwogIGNvbnN0IGNhbmNlbFByb21pc2UgPSBuZXcgUHJvbWlzZSgocmVzb2x2ZSkgPT4gewogICAgY2FuY2VsLm9uY2xpY2sgPSAoKSA9PiB7CiAgICAgIHJlc29sdmUobnVsbCk7CiAgICB9OwogIH0pOwoKICAvLyBXYWl0IGZvciB0aGUgdXNlciB0byBwaWNrIHRoZSBmaWxlcy4KICBjb25zdCBmaWxlcyA9IHlpZWxkIHsKICAgIHByb21pc2U6IFByb21pc2UucmFjZShbcGlja2VkUHJvbWlzZSwgY2FuY2VsUHJvbWlzZV0pLAogICAgcmVzcG9uc2U6IHsKICAgICAgYWN0aW9uOiAnc3RhcnRpbmcnLAogICAgfQogIH07CgogIGNhbmNlbC5yZW1vdmUoKTsKCiAgLy8gRGlzYWJsZSB0aGUgaW5wdXQgZWxlbWVudCBzaW5jZSBmdXJ0aGVyIHBpY2tzIGFyZSBub3QgYWxsb3dlZC4KICBpbnB1dEVsZW1lbnQuZGlzYWJsZWQgPSB0cnVlOwoKICBpZiAoIWZpbGVzKSB7CiAgICByZXR1cm4gewogICAgICByZXNwb25zZTogewogICAgICAgIGFjdGlvbjogJ2NvbXBsZXRlJywKICAgICAgfQogICAgfTsKICB9CgogIGZvciAoY29uc3QgZmlsZSBvZiBmaWxlcykgewogICAgY29uc3QgbGkgPSBkb2N1bWVudC5jcmVhdGVFbGVtZW50KCdsaScpOwogICAgbGkuYXBwZW5kKHNwYW4oZmlsZS5uYW1lLCB7Zm9udFdlaWdodDogJ2JvbGQnfSkpOwogICAgbGkuYXBwZW5kKHNwYW4oCiAgICAgICAgYCgke2ZpbGUudHlwZSB8fCAnbi9hJ30pIC0gJHtmaWxlLnNpemV9IGJ5dGVzLCBgICsKICAgICAgICBgbGFzdCBtb2RpZmllZDogJHsKICAgICAgICAgICAgZmlsZS5sYXN0TW9kaWZpZWREYXRlID8gZmlsZS5sYXN0TW9kaWZpZWREYXRlLnRvTG9jYWxlRGF0ZVN0cmluZygpIDoKICAgICAgICAgICAgICAgICAgICAgICAgICAgICAgICAgICAgJ24vYSd9IC0gYCkpOwogICAgY29uc3QgcGVyY2VudCA9IHNwYW4oJzAlIGRvbmUnKTsKICAgIGxpLmFwcGVuZENoaWxkKHBlcmNlbnQpOwoKICAgIG91dHB1dEVsZW1lbnQuYXBwZW5kQ2hpbGQobGkpOwoKICAgIGNvbnN0IGZpbGVEYXRhUHJvbWlzZSA9IG5ldyBQcm9taXNlKChyZXNvbHZlKSA9PiB7CiAgICAgIGNvbnN0IHJlYWRlciA9IG5ldyBGaWxlUmVhZGVyKCk7CiAgICAgIHJlYWRlci5vbmxvYWQgPSAoZSkgPT4gewogICAgICAgIHJlc29sdmUoZS50YXJnZXQucmVzdWx0KTsKICAgICAgfTsKICAgICAgcmVhZGVyLnJlYWRBc0FycmF5QnVmZmVyKGZpbGUpOwogICAgfSk7CiAgICAvLyBXYWl0IGZvciB0aGUgZGF0YSB0byBiZSByZWFkeS4KICAgIGxldCBmaWxlRGF0YSA9IHlpZWxkIHsKICAgICAgcHJvbWlzZTogZmlsZURhdGFQcm9taXNlLAogICAgICByZXNwb25zZTogewogICAgICAgIGFjdGlvbjogJ2NvbnRpbnVlJywKICAgICAgfQogICAgfTsKCiAgICAvLyBVc2UgYSBjaHVua2VkIHNlbmRpbmcgdG8gYXZvaWQgbWVzc2FnZSBzaXplIGxpbWl0cy4gU2VlIGIvNjIxMTU2NjAuCiAgICBsZXQgcG9zaXRpb24gPSAwOwogICAgZG8gewogICAgICBjb25zdCBsZW5ndGggPSBNYXRoLm1pbihmaWxlRGF0YS5ieXRlTGVuZ3RoIC0gcG9zaXRpb24sIE1BWF9QQVlMT0FEX1NJWkUpOwogICAgICBjb25zdCBjaHVuayA9IG5ldyBVaW50OEFycmF5KGZpbGVEYXRhLCBwb3NpdGlvbiwgbGVuZ3RoKTsKICAgICAgcG9zaXRpb24gKz0gbGVuZ3RoOwoKICAgICAgY29uc3QgYmFzZTY0ID0gYnRvYShTdHJpbmcuZnJvbUNoYXJDb2RlLmFwcGx5KG51bGwsIGNodW5rKSk7CiAgICAgIHlpZWxkIHsKICAgICAgICByZXNwb25zZTogewogICAgICAgICAgYWN0aW9uOiAnYXBwZW5kJywKICAgICAgICAgIGZpbGU6IGZpbGUubmFtZSwKICAgICAgICAgIGRhdGE6IGJhc2U2NCwKICAgICAgICB9LAogICAgICB9OwoKICAgICAgbGV0IHBlcmNlbnREb25lID0gZmlsZURhdGEuYnl0ZUxlbmd0aCA9PT0gMCA/CiAgICAgICAgICAxMDAgOgogICAgICAgICAgTWF0aC5yb3VuZCgocG9zaXRpb24gLyBmaWxlRGF0YS5ieXRlTGVuZ3RoKSAqIDEwMCk7CiAgICAgIHBlcmNlbnQudGV4dENvbnRlbnQgPSBgJHtwZXJjZW50RG9uZX0lIGRvbmVgOwoKICAgIH0gd2hpbGUgKHBvc2l0aW9uIDwgZmlsZURhdGEuYnl0ZUxlbmd0aCk7CiAgfQoKICAvLyBBbGwgZG9uZS4KICB5aWVsZCB7CiAgICByZXNwb25zZTogewogICAgICBhY3Rpb246ICdjb21wbGV0ZScsCiAgICB9CiAgfTsKfQoKc2NvcGUuZ29vZ2xlID0gc2NvcGUuZ29vZ2xlIHx8IHt9OwpzY29wZS5nb29nbGUuY29sYWIgPSBzY29wZS5nb29nbGUuY29sYWIgfHwge307CnNjb3BlLmdvb2dsZS5jb2xhYi5fZmlsZXMgPSB7CiAgX3VwbG9hZEZpbGVzLAogIF91cGxvYWRGaWxlc0NvbnRpbnVlLAp9Owp9KShzZWxmKTsK",
              "ok": true,
              "headers": [
                [
                  "content-type",
                  "application/javascript"
                ]
              ],
              "status": 200,
              "status_text": ""
            }
          },
          "base_uri": "https://localhost:8080/",
          "height": 37
        },
        "outputId": "fbfa978f-654c-41b1-e1ab-d4956d5e82a3"
      },
      "execution_count": null,
      "outputs": [
        {
          "output_type": "display_data",
          "data": {
            "text/plain": [
              "<IPython.core.display.HTML object>"
            ],
            "text/html": [
              "\n",
              "     <input type=\"file\" id=\"files-7ff35ddb-29dc-49e4-a193-09bf0e158d12\" name=\"files[]\" multiple disabled\n",
              "        style=\"border:none\" />\n",
              "     <output id=\"result-7ff35ddb-29dc-49e4-a193-09bf0e158d12\">\n",
              "      Upload widget is only available when the cell has been executed in the\n",
              "      current browser session. Please rerun this cell to enable.\n",
              "      </output>\n",
              "      <script src=\"/nbextensions/google.colab/files.js\"></script> "
            ]
          },
          "metadata": {}
        }
      ]
    },
    {
      "cell_type": "markdown",
      "source": [
        "Step-2 : Read data"
      ],
      "metadata": {
        "id": "gQWS8K2YhiNC"
      }
    },
    {
      "cell_type": "code",
      "source": [
        "df.head()"
      ],
      "metadata": {
        "colab": {
          "base_uri": "https://localhost:8080/",
          "height": 206
        },
        "id": "X8ECObQuUyxg",
        "outputId": "c5731e51-71ad-4ce1-d108-882aed4030cc"
      },
      "execution_count": null,
      "outputs": [
        {
          "output_type": "execute_result",
          "data": {
            "text/plain": [
              "       Category  No Of Reviews  No Of Installs   Size  Price  \\\n",
              "0         games            510            1437  318.0   0.00   \n",
              "1  productivity            155            1547  204.0  -0.50   \n",
              "2         books            273            1162  271.0   0.81   \n",
              "3         games            110            1104    NaN   0.00   \n",
              "4         games            261            1403  224.0   1.01   \n",
              "\n",
              "   Days since Last Update  Rating  \n",
              "0                      81    1.94  \n",
              "1                      72    2.07  \n",
              "2                      69    1.34  \n",
              "3                      82    1.48  \n",
              "4                      98    2.80  "
            ],
            "text/html": [
              "\n",
              "  <div id=\"df-3887c82e-e994-489e-ae40-7021cb203345\">\n",
              "    <div class=\"colab-df-container\">\n",
              "      <div>\n",
              "<style scoped>\n",
              "    .dataframe tbody tr th:only-of-type {\n",
              "        vertical-align: middle;\n",
              "    }\n",
              "\n",
              "    .dataframe tbody tr th {\n",
              "        vertical-align: top;\n",
              "    }\n",
              "\n",
              "    .dataframe thead th {\n",
              "        text-align: right;\n",
              "    }\n",
              "</style>\n",
              "<table border=\"1\" class=\"dataframe\">\n",
              "  <thead>\n",
              "    <tr style=\"text-align: right;\">\n",
              "      <th></th>\n",
              "      <th>Category</th>\n",
              "      <th>No Of Reviews</th>\n",
              "      <th>No Of Installs</th>\n",
              "      <th>Size</th>\n",
              "      <th>Price</th>\n",
              "      <th>Days since Last Update</th>\n",
              "      <th>Rating</th>\n",
              "    </tr>\n",
              "  </thead>\n",
              "  <tbody>\n",
              "    <tr>\n",
              "      <th>0</th>\n",
              "      <td>games</td>\n",
              "      <td>510</td>\n",
              "      <td>1437</td>\n",
              "      <td>318.0</td>\n",
              "      <td>0.00</td>\n",
              "      <td>81</td>\n",
              "      <td>1.94</td>\n",
              "    </tr>\n",
              "    <tr>\n",
              "      <th>1</th>\n",
              "      <td>productivity</td>\n",
              "      <td>155</td>\n",
              "      <td>1547</td>\n",
              "      <td>204.0</td>\n",
              "      <td>-0.50</td>\n",
              "      <td>72</td>\n",
              "      <td>2.07</td>\n",
              "    </tr>\n",
              "    <tr>\n",
              "      <th>2</th>\n",
              "      <td>books</td>\n",
              "      <td>273</td>\n",
              "      <td>1162</td>\n",
              "      <td>271.0</td>\n",
              "      <td>0.81</td>\n",
              "      <td>69</td>\n",
              "      <td>1.34</td>\n",
              "    </tr>\n",
              "    <tr>\n",
              "      <th>3</th>\n",
              "      <td>games</td>\n",
              "      <td>110</td>\n",
              "      <td>1104</td>\n",
              "      <td>NaN</td>\n",
              "      <td>0.00</td>\n",
              "      <td>82</td>\n",
              "      <td>1.48</td>\n",
              "    </tr>\n",
              "    <tr>\n",
              "      <th>4</th>\n",
              "      <td>games</td>\n",
              "      <td>261</td>\n",
              "      <td>1403</td>\n",
              "      <td>224.0</td>\n",
              "      <td>1.01</td>\n",
              "      <td>98</td>\n",
              "      <td>2.80</td>\n",
              "    </tr>\n",
              "  </tbody>\n",
              "</table>\n",
              "</div>\n",
              "      <button class=\"colab-df-convert\" onclick=\"convertToInteractive('df-3887c82e-e994-489e-ae40-7021cb203345')\"\n",
              "              title=\"Convert this dataframe to an interactive table.\"\n",
              "              style=\"display:none;\">\n",
              "        \n",
              "  <svg xmlns=\"http://www.w3.org/2000/svg\" height=\"24px\"viewBox=\"0 0 24 24\"\n",
              "       width=\"24px\">\n",
              "    <path d=\"M0 0h24v24H0V0z\" fill=\"none\"/>\n",
              "    <path d=\"M18.56 5.44l.94 2.06.94-2.06 2.06-.94-2.06-.94-.94-2.06-.94 2.06-2.06.94zm-11 1L8.5 8.5l.94-2.06 2.06-.94-2.06-.94L8.5 2.5l-.94 2.06-2.06.94zm10 10l.94 2.06.94-2.06 2.06-.94-2.06-.94-.94-2.06-.94 2.06-2.06.94z\"/><path d=\"M17.41 7.96l-1.37-1.37c-.4-.4-.92-.59-1.43-.59-.52 0-1.04.2-1.43.59L10.3 9.45l-7.72 7.72c-.78.78-.78 2.05 0 2.83L4 21.41c.39.39.9.59 1.41.59.51 0 1.02-.2 1.41-.59l7.78-7.78 2.81-2.81c.8-.78.8-2.07 0-2.86zM5.41 20L4 18.59l7.72-7.72 1.47 1.35L5.41 20z\"/>\n",
              "  </svg>\n",
              "      </button>\n",
              "      \n",
              "  <style>\n",
              "    .colab-df-container {\n",
              "      display:flex;\n",
              "      flex-wrap:wrap;\n",
              "      gap: 12px;\n",
              "    }\n",
              "\n",
              "    .colab-df-convert {\n",
              "      background-color: #E8F0FE;\n",
              "      border: none;\n",
              "      border-radius: 50%;\n",
              "      cursor: pointer;\n",
              "      display: none;\n",
              "      fill: #1967D2;\n",
              "      height: 32px;\n",
              "      padding: 0 0 0 0;\n",
              "      width: 32px;\n",
              "    }\n",
              "\n",
              "    .colab-df-convert:hover {\n",
              "      background-color: #E2EBFA;\n",
              "      box-shadow: 0px 1px 2px rgba(60, 64, 67, 0.3), 0px 1px 3px 1px rgba(60, 64, 67, 0.15);\n",
              "      fill: #174EA6;\n",
              "    }\n",
              "\n",
              "    [theme=dark] .colab-df-convert {\n",
              "      background-color: #3B4455;\n",
              "      fill: #D2E3FC;\n",
              "    }\n",
              "\n",
              "    [theme=dark] .colab-df-convert:hover {\n",
              "      background-color: #434B5C;\n",
              "      box-shadow: 0px 1px 3px 1px rgba(0, 0, 0, 0.15);\n",
              "      filter: drop-shadow(0px 1px 2px rgba(0, 0, 0, 0.3));\n",
              "      fill: #FFFFFF;\n",
              "    }\n",
              "  </style>\n",
              "\n",
              "      <script>\n",
              "        const buttonEl =\n",
              "          document.querySelector('#df-3887c82e-e994-489e-ae40-7021cb203345 button.colab-df-convert');\n",
              "        buttonEl.style.display =\n",
              "          google.colab.kernel.accessAllowed ? 'block' : 'none';\n",
              "\n",
              "        async function convertToInteractive(key) {\n",
              "          const element = document.querySelector('#df-3887c82e-e994-489e-ae40-7021cb203345');\n",
              "          const dataTable =\n",
              "            await google.colab.kernel.invokeFunction('convertToInteractive',\n",
              "                                                     [key], {});\n",
              "          if (!dataTable) return;\n",
              "\n",
              "          const docLinkHtml = 'Like what you see? Visit the ' +\n",
              "            '<a target=\"_blank\" href=https://colab.research.google.com/notebooks/data_table.ipynb>data table notebook</a>'\n",
              "            + ' to learn more about interactive tables.';\n",
              "          element.innerHTML = '';\n",
              "          dataTable['output_type'] = 'display_data';\n",
              "          await google.colab.output.renderOutput(dataTable, element);\n",
              "          const docLink = document.createElement('div');\n",
              "          docLink.innerHTML = docLinkHtml;\n",
              "          element.appendChild(docLink);\n",
              "        }\n",
              "      </script>\n",
              "    </div>\n",
              "  </div>\n",
              "  "
            ]
          },
          "metadata": {},
          "execution_count": 5
        }
      ]
    },
    {
      "cell_type": "markdown",
      "source": [
        " Statistics of data"
      ],
      "metadata": {
        "id": "emrStoTD2Dd_"
      }
    },
    {
      "cell_type": "code",
      "source": [
        "df.describe()"
      ],
      "metadata": {
        "colab": {
          "base_uri": "https://localhost:8080/",
          "height": 300
        },
        "id": "XAcTLhSs2FCB",
        "outputId": "e92b8382-dc75-4dfe-b3b0-92757a319bf3"
      },
      "execution_count": null,
      "outputs": [
        {
          "output_type": "execute_result",
          "data": {
            "text/plain": [
              "       No Of Reviews  No Of Installs        Size       Price  \\\n",
              "count     500.000000       500.00000  472.000000  500.000000   \n",
              "mean      426.578000      1456.22200  247.870763    0.772200   \n",
              "std       366.600332       506.51664   95.105050    0.752114   \n",
              "min         0.000000        23.00000    8.000000   -0.500000   \n",
              "25%       113.750000      1072.50000  184.000000    0.000000   \n",
              "50%       273.000000      1447.50000  249.000000    0.645000   \n",
              "75%       716.250000      1783.75000  312.250000    1.270000   \n",
              "max      1552.000000      2880.00000  494.000000    3.380000   \n",
              "\n",
              "       Days since Last Update      Rating  \n",
              "count              500.000000  500.000000  \n",
              "mean                83.274000    2.462260  \n",
              "std                 14.960433    0.840859  \n",
              "min                -80.000000    0.050000  \n",
              "25%                 76.000000    1.907500  \n",
              "50%                 84.000000    2.480000  \n",
              "75%                 92.000000    3.020000  \n",
              "max                117.000000    4.970000  "
            ],
            "text/html": [
              "\n",
              "  <div id=\"df-8892a75c-85d2-4b08-92b0-d889816ef653\">\n",
              "    <div class=\"colab-df-container\">\n",
              "      <div>\n",
              "<style scoped>\n",
              "    .dataframe tbody tr th:only-of-type {\n",
              "        vertical-align: middle;\n",
              "    }\n",
              "\n",
              "    .dataframe tbody tr th {\n",
              "        vertical-align: top;\n",
              "    }\n",
              "\n",
              "    .dataframe thead th {\n",
              "        text-align: right;\n",
              "    }\n",
              "</style>\n",
              "<table border=\"1\" class=\"dataframe\">\n",
              "  <thead>\n",
              "    <tr style=\"text-align: right;\">\n",
              "      <th></th>\n",
              "      <th>No Of Reviews</th>\n",
              "      <th>No Of Installs</th>\n",
              "      <th>Size</th>\n",
              "      <th>Price</th>\n",
              "      <th>Days since Last Update</th>\n",
              "      <th>Rating</th>\n",
              "    </tr>\n",
              "  </thead>\n",
              "  <tbody>\n",
              "    <tr>\n",
              "      <th>count</th>\n",
              "      <td>500.000000</td>\n",
              "      <td>500.00000</td>\n",
              "      <td>472.000000</td>\n",
              "      <td>500.000000</td>\n",
              "      <td>500.000000</td>\n",
              "      <td>500.000000</td>\n",
              "    </tr>\n",
              "    <tr>\n",
              "      <th>mean</th>\n",
              "      <td>426.578000</td>\n",
              "      <td>1456.22200</td>\n",
              "      <td>247.870763</td>\n",
              "      <td>0.772200</td>\n",
              "      <td>83.274000</td>\n",
              "      <td>2.462260</td>\n",
              "    </tr>\n",
              "    <tr>\n",
              "      <th>std</th>\n",
              "      <td>366.600332</td>\n",
              "      <td>506.51664</td>\n",
              "      <td>95.105050</td>\n",
              "      <td>0.752114</td>\n",
              "      <td>14.960433</td>\n",
              "      <td>0.840859</td>\n",
              "    </tr>\n",
              "    <tr>\n",
              "      <th>min</th>\n",
              "      <td>0.000000</td>\n",
              "      <td>23.00000</td>\n",
              "      <td>8.000000</td>\n",
              "      <td>-0.500000</td>\n",
              "      <td>-80.000000</td>\n",
              "      <td>0.050000</td>\n",
              "    </tr>\n",
              "    <tr>\n",
              "      <th>25%</th>\n",
              "      <td>113.750000</td>\n",
              "      <td>1072.50000</td>\n",
              "      <td>184.000000</td>\n",
              "      <td>0.000000</td>\n",
              "      <td>76.000000</td>\n",
              "      <td>1.907500</td>\n",
              "    </tr>\n",
              "    <tr>\n",
              "      <th>50%</th>\n",
              "      <td>273.000000</td>\n",
              "      <td>1447.50000</td>\n",
              "      <td>249.000000</td>\n",
              "      <td>0.645000</td>\n",
              "      <td>84.000000</td>\n",
              "      <td>2.480000</td>\n",
              "    </tr>\n",
              "    <tr>\n",
              "      <th>75%</th>\n",
              "      <td>716.250000</td>\n",
              "      <td>1783.75000</td>\n",
              "      <td>312.250000</td>\n",
              "      <td>1.270000</td>\n",
              "      <td>92.000000</td>\n",
              "      <td>3.020000</td>\n",
              "    </tr>\n",
              "    <tr>\n",
              "      <th>max</th>\n",
              "      <td>1552.000000</td>\n",
              "      <td>2880.00000</td>\n",
              "      <td>494.000000</td>\n",
              "      <td>3.380000</td>\n",
              "      <td>117.000000</td>\n",
              "      <td>4.970000</td>\n",
              "    </tr>\n",
              "  </tbody>\n",
              "</table>\n",
              "</div>\n",
              "      <button class=\"colab-df-convert\" onclick=\"convertToInteractive('df-8892a75c-85d2-4b08-92b0-d889816ef653')\"\n",
              "              title=\"Convert this dataframe to an interactive table.\"\n",
              "              style=\"display:none;\">\n",
              "        \n",
              "  <svg xmlns=\"http://www.w3.org/2000/svg\" height=\"24px\"viewBox=\"0 0 24 24\"\n",
              "       width=\"24px\">\n",
              "    <path d=\"M0 0h24v24H0V0z\" fill=\"none\"/>\n",
              "    <path d=\"M18.56 5.44l.94 2.06.94-2.06 2.06-.94-2.06-.94-.94-2.06-.94 2.06-2.06.94zm-11 1L8.5 8.5l.94-2.06 2.06-.94-2.06-.94L8.5 2.5l-.94 2.06-2.06.94zm10 10l.94 2.06.94-2.06 2.06-.94-2.06-.94-.94-2.06-.94 2.06-2.06.94z\"/><path d=\"M17.41 7.96l-1.37-1.37c-.4-.4-.92-.59-1.43-.59-.52 0-1.04.2-1.43.59L10.3 9.45l-7.72 7.72c-.78.78-.78 2.05 0 2.83L4 21.41c.39.39.9.59 1.41.59.51 0 1.02-.2 1.41-.59l7.78-7.78 2.81-2.81c.8-.78.8-2.07 0-2.86zM5.41 20L4 18.59l7.72-7.72 1.47 1.35L5.41 20z\"/>\n",
              "  </svg>\n",
              "      </button>\n",
              "      \n",
              "  <style>\n",
              "    .colab-df-container {\n",
              "      display:flex;\n",
              "      flex-wrap:wrap;\n",
              "      gap: 12px;\n",
              "    }\n",
              "\n",
              "    .colab-df-convert {\n",
              "      background-color: #E8F0FE;\n",
              "      border: none;\n",
              "      border-radius: 50%;\n",
              "      cursor: pointer;\n",
              "      display: none;\n",
              "      fill: #1967D2;\n",
              "      height: 32px;\n",
              "      padding: 0 0 0 0;\n",
              "      width: 32px;\n",
              "    }\n",
              "\n",
              "    .colab-df-convert:hover {\n",
              "      background-color: #E2EBFA;\n",
              "      box-shadow: 0px 1px 2px rgba(60, 64, 67, 0.3), 0px 1px 3px 1px rgba(60, 64, 67, 0.15);\n",
              "      fill: #174EA6;\n",
              "    }\n",
              "\n",
              "    [theme=dark] .colab-df-convert {\n",
              "      background-color: #3B4455;\n",
              "      fill: #D2E3FC;\n",
              "    }\n",
              "\n",
              "    [theme=dark] .colab-df-convert:hover {\n",
              "      background-color: #434B5C;\n",
              "      box-shadow: 0px 1px 3px 1px rgba(0, 0, 0, 0.15);\n",
              "      filter: drop-shadow(0px 1px 2px rgba(0, 0, 0, 0.3));\n",
              "      fill: #FFFFFF;\n",
              "    }\n",
              "  </style>\n",
              "\n",
              "      <script>\n",
              "        const buttonEl =\n",
              "          document.querySelector('#df-8892a75c-85d2-4b08-92b0-d889816ef653 button.colab-df-convert');\n",
              "        buttonEl.style.display =\n",
              "          google.colab.kernel.accessAllowed ? 'block' : 'none';\n",
              "\n",
              "        async function convertToInteractive(key) {\n",
              "          const element = document.querySelector('#df-8892a75c-85d2-4b08-92b0-d889816ef653');\n",
              "          const dataTable =\n",
              "            await google.colab.kernel.invokeFunction('convertToInteractive',\n",
              "                                                     [key], {});\n",
              "          if (!dataTable) return;\n",
              "\n",
              "          const docLinkHtml = 'Like what you see? Visit the ' +\n",
              "            '<a target=\"_blank\" href=https://colab.research.google.com/notebooks/data_table.ipynb>data table notebook</a>'\n",
              "            + ' to learn more about interactive tables.';\n",
              "          element.innerHTML = '';\n",
              "          dataTable['output_type'] = 'display_data';\n",
              "          await google.colab.output.renderOutput(dataTable, element);\n",
              "          const docLink = document.createElement('div');\n",
              "          docLink.innerHTML = docLinkHtml;\n",
              "          element.appendChild(docLink);\n",
              "        }\n",
              "      </script>\n",
              "    </div>\n",
              "  </div>\n",
              "  "
            ]
          },
          "metadata": {},
          "execution_count": 6
        }
      ]
    },
    {
      "cell_type": "markdown",
      "source": [
        "Step-3: Sepreate data into input(X) as training and output(y) as testing and drop the non-numerical column of the data."
      ],
      "metadata": {
        "id": "0G7ZWz6jh0Y7"
      }
    },
    {
      "cell_type": "code",
      "source": [
        "df_rows_deleated=df.dropna()\n",
        "#=df.dropna()\n",
        "# For input\n",
        "X =df_rows_deleated.iloc[:,1:6]\n",
        "# For output\n",
        "y =df_rows_deleated.iloc[:,6:7]"
      ],
      "metadata": {
        "id": "GYel1mVO2znH"
      },
      "execution_count": null,
      "outputs": []
    },
    {
      "cell_type": "code",
      "source": [
        "df_rows_deleated"
      ],
      "metadata": {
        "colab": {
          "base_uri": "https://localhost:8080/",
          "height": 423
        },
        "id": "-RJMp_Ipodw3",
        "outputId": "5d2e06b2-9ffd-4e5c-c10b-8929484a1d22"
      },
      "execution_count": null,
      "outputs": [
        {
          "output_type": "execute_result",
          "data": {
            "text/plain": [
              "         Category  No Of Reviews  No Of Installs   Size  Price  \\\n",
              "0           games            510            1437  318.0   0.00   \n",
              "1    productivity            155            1547  204.0  -0.50   \n",
              "2           books            273            1162  271.0   0.81   \n",
              "4           games            261            1403  224.0   1.01   \n",
              "5           games             68             676  331.0   2.39   \n",
              "..            ...            ...             ...    ...    ...   \n",
              "495         games           1213            2205  318.0   0.00   \n",
              "496           art              4            1826  163.0   1.04   \n",
              "497         games            453             823  196.0   0.35   \n",
              "498  productivity            116            1161  347.0   0.49   \n",
              "499      business            800            1454  200.0   0.73   \n",
              "\n",
              "     Days since Last Update  Rating  \n",
              "0                        81    1.94  \n",
              "1                        72    2.07  \n",
              "2                        69    1.34  \n",
              "4                        98    2.80  \n",
              "5                        88    2.67  \n",
              "..                      ...     ...  \n",
              "495                      69    2.08  \n",
              "496                      85    3.19  \n",
              "497                      73    1.87  \n",
              "498                      93    2.64  \n",
              "499                     100    3.84  \n",
              "\n",
              "[472 rows x 7 columns]"
            ],
            "text/html": [
              "\n",
              "  <div id=\"df-00f6095b-93f6-433c-9e8b-46a91901b4fc\">\n",
              "    <div class=\"colab-df-container\">\n",
              "      <div>\n",
              "<style scoped>\n",
              "    .dataframe tbody tr th:only-of-type {\n",
              "        vertical-align: middle;\n",
              "    }\n",
              "\n",
              "    .dataframe tbody tr th {\n",
              "        vertical-align: top;\n",
              "    }\n",
              "\n",
              "    .dataframe thead th {\n",
              "        text-align: right;\n",
              "    }\n",
              "</style>\n",
              "<table border=\"1\" class=\"dataframe\">\n",
              "  <thead>\n",
              "    <tr style=\"text-align: right;\">\n",
              "      <th></th>\n",
              "      <th>Category</th>\n",
              "      <th>No Of Reviews</th>\n",
              "      <th>No Of Installs</th>\n",
              "      <th>Size</th>\n",
              "      <th>Price</th>\n",
              "      <th>Days since Last Update</th>\n",
              "      <th>Rating</th>\n",
              "    </tr>\n",
              "  </thead>\n",
              "  <tbody>\n",
              "    <tr>\n",
              "      <th>0</th>\n",
              "      <td>games</td>\n",
              "      <td>510</td>\n",
              "      <td>1437</td>\n",
              "      <td>318.0</td>\n",
              "      <td>0.00</td>\n",
              "      <td>81</td>\n",
              "      <td>1.94</td>\n",
              "    </tr>\n",
              "    <tr>\n",
              "      <th>1</th>\n",
              "      <td>productivity</td>\n",
              "      <td>155</td>\n",
              "      <td>1547</td>\n",
              "      <td>204.0</td>\n",
              "      <td>-0.50</td>\n",
              "      <td>72</td>\n",
              "      <td>2.07</td>\n",
              "    </tr>\n",
              "    <tr>\n",
              "      <th>2</th>\n",
              "      <td>books</td>\n",
              "      <td>273</td>\n",
              "      <td>1162</td>\n",
              "      <td>271.0</td>\n",
              "      <td>0.81</td>\n",
              "      <td>69</td>\n",
              "      <td>1.34</td>\n",
              "    </tr>\n",
              "    <tr>\n",
              "      <th>4</th>\n",
              "      <td>games</td>\n",
              "      <td>261</td>\n",
              "      <td>1403</td>\n",
              "      <td>224.0</td>\n",
              "      <td>1.01</td>\n",
              "      <td>98</td>\n",
              "      <td>2.80</td>\n",
              "    </tr>\n",
              "    <tr>\n",
              "      <th>5</th>\n",
              "      <td>games</td>\n",
              "      <td>68</td>\n",
              "      <td>676</td>\n",
              "      <td>331.0</td>\n",
              "      <td>2.39</td>\n",
              "      <td>88</td>\n",
              "      <td>2.67</td>\n",
              "    </tr>\n",
              "    <tr>\n",
              "      <th>...</th>\n",
              "      <td>...</td>\n",
              "      <td>...</td>\n",
              "      <td>...</td>\n",
              "      <td>...</td>\n",
              "      <td>...</td>\n",
              "      <td>...</td>\n",
              "      <td>...</td>\n",
              "    </tr>\n",
              "    <tr>\n",
              "      <th>495</th>\n",
              "      <td>games</td>\n",
              "      <td>1213</td>\n",
              "      <td>2205</td>\n",
              "      <td>318.0</td>\n",
              "      <td>0.00</td>\n",
              "      <td>69</td>\n",
              "      <td>2.08</td>\n",
              "    </tr>\n",
              "    <tr>\n",
              "      <th>496</th>\n",
              "      <td>art</td>\n",
              "      <td>4</td>\n",
              "      <td>1826</td>\n",
              "      <td>163.0</td>\n",
              "      <td>1.04</td>\n",
              "      <td>85</td>\n",
              "      <td>3.19</td>\n",
              "    </tr>\n",
              "    <tr>\n",
              "      <th>497</th>\n",
              "      <td>games</td>\n",
              "      <td>453</td>\n",
              "      <td>823</td>\n",
              "      <td>196.0</td>\n",
              "      <td>0.35</td>\n",
              "      <td>73</td>\n",
              "      <td>1.87</td>\n",
              "    </tr>\n",
              "    <tr>\n",
              "      <th>498</th>\n",
              "      <td>productivity</td>\n",
              "      <td>116</td>\n",
              "      <td>1161</td>\n",
              "      <td>347.0</td>\n",
              "      <td>0.49</td>\n",
              "      <td>93</td>\n",
              "      <td>2.64</td>\n",
              "    </tr>\n",
              "    <tr>\n",
              "      <th>499</th>\n",
              "      <td>business</td>\n",
              "      <td>800</td>\n",
              "      <td>1454</td>\n",
              "      <td>200.0</td>\n",
              "      <td>0.73</td>\n",
              "      <td>100</td>\n",
              "      <td>3.84</td>\n",
              "    </tr>\n",
              "  </tbody>\n",
              "</table>\n",
              "<p>472 rows × 7 columns</p>\n",
              "</div>\n",
              "      <button class=\"colab-df-convert\" onclick=\"convertToInteractive('df-00f6095b-93f6-433c-9e8b-46a91901b4fc')\"\n",
              "              title=\"Convert this dataframe to an interactive table.\"\n",
              "              style=\"display:none;\">\n",
              "        \n",
              "  <svg xmlns=\"http://www.w3.org/2000/svg\" height=\"24px\"viewBox=\"0 0 24 24\"\n",
              "       width=\"24px\">\n",
              "    <path d=\"M0 0h24v24H0V0z\" fill=\"none\"/>\n",
              "    <path d=\"M18.56 5.44l.94 2.06.94-2.06 2.06-.94-2.06-.94-.94-2.06-.94 2.06-2.06.94zm-11 1L8.5 8.5l.94-2.06 2.06-.94-2.06-.94L8.5 2.5l-.94 2.06-2.06.94zm10 10l.94 2.06.94-2.06 2.06-.94-2.06-.94-.94-2.06-.94 2.06-2.06.94z\"/><path d=\"M17.41 7.96l-1.37-1.37c-.4-.4-.92-.59-1.43-.59-.52 0-1.04.2-1.43.59L10.3 9.45l-7.72 7.72c-.78.78-.78 2.05 0 2.83L4 21.41c.39.39.9.59 1.41.59.51 0 1.02-.2 1.41-.59l7.78-7.78 2.81-2.81c.8-.78.8-2.07 0-2.86zM5.41 20L4 18.59l7.72-7.72 1.47 1.35L5.41 20z\"/>\n",
              "  </svg>\n",
              "      </button>\n",
              "      \n",
              "  <style>\n",
              "    .colab-df-container {\n",
              "      display:flex;\n",
              "      flex-wrap:wrap;\n",
              "      gap: 12px;\n",
              "    }\n",
              "\n",
              "    .colab-df-convert {\n",
              "      background-color: #E8F0FE;\n",
              "      border: none;\n",
              "      border-radius: 50%;\n",
              "      cursor: pointer;\n",
              "      display: none;\n",
              "      fill: #1967D2;\n",
              "      height: 32px;\n",
              "      padding: 0 0 0 0;\n",
              "      width: 32px;\n",
              "    }\n",
              "\n",
              "    .colab-df-convert:hover {\n",
              "      background-color: #E2EBFA;\n",
              "      box-shadow: 0px 1px 2px rgba(60, 64, 67, 0.3), 0px 1px 3px 1px rgba(60, 64, 67, 0.15);\n",
              "      fill: #174EA6;\n",
              "    }\n",
              "\n",
              "    [theme=dark] .colab-df-convert {\n",
              "      background-color: #3B4455;\n",
              "      fill: #D2E3FC;\n",
              "    }\n",
              "\n",
              "    [theme=dark] .colab-df-convert:hover {\n",
              "      background-color: #434B5C;\n",
              "      box-shadow: 0px 1px 3px 1px rgba(0, 0, 0, 0.15);\n",
              "      filter: drop-shadow(0px 1px 2px rgba(0, 0, 0, 0.3));\n",
              "      fill: #FFFFFF;\n",
              "    }\n",
              "  </style>\n",
              "\n",
              "      <script>\n",
              "        const buttonEl =\n",
              "          document.querySelector('#df-00f6095b-93f6-433c-9e8b-46a91901b4fc button.colab-df-convert');\n",
              "        buttonEl.style.display =\n",
              "          google.colab.kernel.accessAllowed ? 'block' : 'none';\n",
              "\n",
              "        async function convertToInteractive(key) {\n",
              "          const element = document.querySelector('#df-00f6095b-93f6-433c-9e8b-46a91901b4fc');\n",
              "          const dataTable =\n",
              "            await google.colab.kernel.invokeFunction('convertToInteractive',\n",
              "                                                     [key], {});\n",
              "          if (!dataTable) return;\n",
              "\n",
              "          const docLinkHtml = 'Like what you see? Visit the ' +\n",
              "            '<a target=\"_blank\" href=https://colab.research.google.com/notebooks/data_table.ipynb>data table notebook</a>'\n",
              "            + ' to learn more about interactive tables.';\n",
              "          element.innerHTML = '';\n",
              "          dataTable['output_type'] = 'display_data';\n",
              "          await google.colab.output.renderOutput(dataTable, element);\n",
              "          const docLink = document.createElement('div');\n",
              "          docLink.innerHTML = docLinkHtml;\n",
              "          element.appendChild(docLink);\n",
              "        }\n",
              "      </script>\n",
              "    </div>\n",
              "  </div>\n",
              "  "
            ]
          },
          "metadata": {},
          "execution_count": 8
        }
      ]
    },
    {
      "cell_type": "markdown",
      "source": [
        "Step-4: Split data into train/test (75%:25%)"
      ],
      "metadata": {
        "id": "y_IimceM3zIN"
      }
    },
    {
      "cell_type": "code",
      "source": [
        "import numpy as np\n",
        "from sklearn.model_selection import train_test_split\n",
        "Xtrain, Xtest, ytrain, ytest = train_test_split(X,y, test_size=0.25)"
      ],
      "metadata": {
        "id": "zU9ih0Lo30x-"
      },
      "execution_count": null,
      "outputs": []
    },
    {
      "cell_type": "markdown",
      "source": [
        "* Correlation within your input data."
      ],
      "metadata": {
        "id": "RoHzXeG-4BRe"
      }
    },
    {
      "cell_type": "code",
      "source": [
        "df.corr()"
      ],
      "metadata": {
        "colab": {
          "base_uri": "https://localhost:8080/",
          "height": 237
        },
        "id": "DcedkuIo4Cre",
        "outputId": "0ecccf04-064d-4b38-ee62-d517c247c11a"
      },
      "execution_count": null,
      "outputs": [
        {
          "output_type": "execute_result",
          "data": {
            "text/plain": [
              "                        No Of Reviews  No Of Installs      Size     Price  \\\n",
              "No Of Reviews                1.000000        0.539633 -0.006947 -0.080349   \n",
              "No Of Installs               0.539633        1.000000  0.024171 -0.005230   \n",
              "Size                        -0.006947        0.024171  1.000000 -0.033036   \n",
              "Price                       -0.080349       -0.005230 -0.033036  1.000000   \n",
              "Days since Last Update      -0.021273       -0.017957 -0.010854  0.004276   \n",
              "Rating                       0.177706        0.484272  0.012812  0.390406   \n",
              "\n",
              "                        Days since Last Update    Rating  \n",
              "No Of Reviews                        -0.021273  0.177706  \n",
              "No Of Installs                       -0.017957  0.484272  \n",
              "Size                                 -0.010854  0.012812  \n",
              "Price                                 0.004276  0.390406  \n",
              "Days since Last Update                1.000000  0.521359  \n",
              "Rating                                0.521359  1.000000  "
            ],
            "text/html": [
              "\n",
              "  <div id=\"df-4f109147-2598-466b-9042-14543a323b11\">\n",
              "    <div class=\"colab-df-container\">\n",
              "      <div>\n",
              "<style scoped>\n",
              "    .dataframe tbody tr th:only-of-type {\n",
              "        vertical-align: middle;\n",
              "    }\n",
              "\n",
              "    .dataframe tbody tr th {\n",
              "        vertical-align: top;\n",
              "    }\n",
              "\n",
              "    .dataframe thead th {\n",
              "        text-align: right;\n",
              "    }\n",
              "</style>\n",
              "<table border=\"1\" class=\"dataframe\">\n",
              "  <thead>\n",
              "    <tr style=\"text-align: right;\">\n",
              "      <th></th>\n",
              "      <th>No Of Reviews</th>\n",
              "      <th>No Of Installs</th>\n",
              "      <th>Size</th>\n",
              "      <th>Price</th>\n",
              "      <th>Days since Last Update</th>\n",
              "      <th>Rating</th>\n",
              "    </tr>\n",
              "  </thead>\n",
              "  <tbody>\n",
              "    <tr>\n",
              "      <th>No Of Reviews</th>\n",
              "      <td>1.000000</td>\n",
              "      <td>0.539633</td>\n",
              "      <td>-0.006947</td>\n",
              "      <td>-0.080349</td>\n",
              "      <td>-0.021273</td>\n",
              "      <td>0.177706</td>\n",
              "    </tr>\n",
              "    <tr>\n",
              "      <th>No Of Installs</th>\n",
              "      <td>0.539633</td>\n",
              "      <td>1.000000</td>\n",
              "      <td>0.024171</td>\n",
              "      <td>-0.005230</td>\n",
              "      <td>-0.017957</td>\n",
              "      <td>0.484272</td>\n",
              "    </tr>\n",
              "    <tr>\n",
              "      <th>Size</th>\n",
              "      <td>-0.006947</td>\n",
              "      <td>0.024171</td>\n",
              "      <td>1.000000</td>\n",
              "      <td>-0.033036</td>\n",
              "      <td>-0.010854</td>\n",
              "      <td>0.012812</td>\n",
              "    </tr>\n",
              "    <tr>\n",
              "      <th>Price</th>\n",
              "      <td>-0.080349</td>\n",
              "      <td>-0.005230</td>\n",
              "      <td>-0.033036</td>\n",
              "      <td>1.000000</td>\n",
              "      <td>0.004276</td>\n",
              "      <td>0.390406</td>\n",
              "    </tr>\n",
              "    <tr>\n",
              "      <th>Days since Last Update</th>\n",
              "      <td>-0.021273</td>\n",
              "      <td>-0.017957</td>\n",
              "      <td>-0.010854</td>\n",
              "      <td>0.004276</td>\n",
              "      <td>1.000000</td>\n",
              "      <td>0.521359</td>\n",
              "    </tr>\n",
              "    <tr>\n",
              "      <th>Rating</th>\n",
              "      <td>0.177706</td>\n",
              "      <td>0.484272</td>\n",
              "      <td>0.012812</td>\n",
              "      <td>0.390406</td>\n",
              "      <td>0.521359</td>\n",
              "      <td>1.000000</td>\n",
              "    </tr>\n",
              "  </tbody>\n",
              "</table>\n",
              "</div>\n",
              "      <button class=\"colab-df-convert\" onclick=\"convertToInteractive('df-4f109147-2598-466b-9042-14543a323b11')\"\n",
              "              title=\"Convert this dataframe to an interactive table.\"\n",
              "              style=\"display:none;\">\n",
              "        \n",
              "  <svg xmlns=\"http://www.w3.org/2000/svg\" height=\"24px\"viewBox=\"0 0 24 24\"\n",
              "       width=\"24px\">\n",
              "    <path d=\"M0 0h24v24H0V0z\" fill=\"none\"/>\n",
              "    <path d=\"M18.56 5.44l.94 2.06.94-2.06 2.06-.94-2.06-.94-.94-2.06-.94 2.06-2.06.94zm-11 1L8.5 8.5l.94-2.06 2.06-.94-2.06-.94L8.5 2.5l-.94 2.06-2.06.94zm10 10l.94 2.06.94-2.06 2.06-.94-2.06-.94-.94-2.06-.94 2.06-2.06.94z\"/><path d=\"M17.41 7.96l-1.37-1.37c-.4-.4-.92-.59-1.43-.59-.52 0-1.04.2-1.43.59L10.3 9.45l-7.72 7.72c-.78.78-.78 2.05 0 2.83L4 21.41c.39.39.9.59 1.41.59.51 0 1.02-.2 1.41-.59l7.78-7.78 2.81-2.81c.8-.78.8-2.07 0-2.86zM5.41 20L4 18.59l7.72-7.72 1.47 1.35L5.41 20z\"/>\n",
              "  </svg>\n",
              "      </button>\n",
              "      \n",
              "  <style>\n",
              "    .colab-df-container {\n",
              "      display:flex;\n",
              "      flex-wrap:wrap;\n",
              "      gap: 12px;\n",
              "    }\n",
              "\n",
              "    .colab-df-convert {\n",
              "      background-color: #E8F0FE;\n",
              "      border: none;\n",
              "      border-radius: 50%;\n",
              "      cursor: pointer;\n",
              "      display: none;\n",
              "      fill: #1967D2;\n",
              "      height: 32px;\n",
              "      padding: 0 0 0 0;\n",
              "      width: 32px;\n",
              "    }\n",
              "\n",
              "    .colab-df-convert:hover {\n",
              "      background-color: #E2EBFA;\n",
              "      box-shadow: 0px 1px 2px rgba(60, 64, 67, 0.3), 0px 1px 3px 1px rgba(60, 64, 67, 0.15);\n",
              "      fill: #174EA6;\n",
              "    }\n",
              "\n",
              "    [theme=dark] .colab-df-convert {\n",
              "      background-color: #3B4455;\n",
              "      fill: #D2E3FC;\n",
              "    }\n",
              "\n",
              "    [theme=dark] .colab-df-convert:hover {\n",
              "      background-color: #434B5C;\n",
              "      box-shadow: 0px 1px 3px 1px rgba(0, 0, 0, 0.15);\n",
              "      filter: drop-shadow(0px 1px 2px rgba(0, 0, 0, 0.3));\n",
              "      fill: #FFFFFF;\n",
              "    }\n",
              "  </style>\n",
              "\n",
              "      <script>\n",
              "        const buttonEl =\n",
              "          document.querySelector('#df-4f109147-2598-466b-9042-14543a323b11 button.colab-df-convert');\n",
              "        buttonEl.style.display =\n",
              "          google.colab.kernel.accessAllowed ? 'block' : 'none';\n",
              "\n",
              "        async function convertToInteractive(key) {\n",
              "          const element = document.querySelector('#df-4f109147-2598-466b-9042-14543a323b11');\n",
              "          const dataTable =\n",
              "            await google.colab.kernel.invokeFunction('convertToInteractive',\n",
              "                                                     [key], {});\n",
              "          if (!dataTable) return;\n",
              "\n",
              "          const docLinkHtml = 'Like what you see? Visit the ' +\n",
              "            '<a target=\"_blank\" href=https://colab.research.google.com/notebooks/data_table.ipynb>data table notebook</a>'\n",
              "            + ' to learn more about interactive tables.';\n",
              "          element.innerHTML = '';\n",
              "          dataTable['output_type'] = 'display_data';\n",
              "          await google.colab.output.renderOutput(dataTable, element);\n",
              "          const docLink = document.createElement('div');\n",
              "          docLink.innerHTML = docLinkHtml;\n",
              "          element.appendChild(docLink);\n",
              "        }\n",
              "      </script>\n",
              "    </div>\n",
              "  </div>\n",
              "  "
            ]
          },
          "metadata": {},
          "execution_count": 10
        }
      ]
    },
    {
      "cell_type": "markdown",
      "source": [
        "Plot the rating (“Rating”) against each of the (numerical) columns\n"
      ],
      "metadata": {
        "id": "PsFQtMaN4GyP"
      }
    },
    {
      "cell_type": "code",
      "source": [
        "from pylab import*\n",
        "scatter(y, df_rows_deleated['No Of Reviews'])\n",
        "plt.title(\"Rating against No Of Reviews\")\n",
        "show()"
      ],
      "metadata": {
        "colab": {
          "base_uri": "https://localhost:8080/",
          "height": 281
        },
        "id": "nzQu0ZYw4OB9",
        "outputId": "94a4edcd-aa81-4517-ba6d-55d9bbec03e3"
      },
      "execution_count": null,
      "outputs": [
        {
          "output_type": "display_data",
          "data": {
            "text/plain": [
              "<Figure size 432x288 with 1 Axes>"
            ],
            "image/png": "[encoded data removed]"
          },
          "metadata": {
            "needs_background": "light"
          }
        }
      ]
    },
    {
      "cell_type": "code",
      "source": [
        "scatter(y, df_rows_deleated['No Of Installs'])\n",
        "plt.title(\"Rating against No Of Installs\")\n",
        "show()"
      ],
      "metadata": {
        "colab": {
          "base_uri": "https://localhost:8080/",
          "height": 281
        },
        "id": "en66Swdz-nMI",
        "outputId": "a3258b07-5296-4295-c96a-c8dbf2640d3b"
      },
      "execution_count": null,
      "outputs": [
        {
          "output_type": "display_data",
          "data": {
            "text/plain": [
              "<Figure size 432x288 with 1 Axes>"
            ],
            "image/png": "[encoded data removed]"
          },
          "metadata": {
            "needs_background": "light"
          }
        }
      ]
    },
    {
      "cell_type": "code",
      "source": [
        "scatter(y, df_rows_deleated['Size'])\n",
        "plt.title(\"Rating against Size\")\n",
        "show()"
      ],
      "metadata": {
        "colab": {
          "base_uri": "https://localhost:8080/",
          "height": 281
        },
        "id": "R8x7xOwr-p1P",
        "outputId": "62922323-a2e1-4d01-9592-e108d46de039"
      },
      "execution_count": null,
      "outputs": [
        {
          "output_type": "display_data",
          "data": {
            "text/plain": [
              "<Figure size 432x288 with 1 Axes>"
            ],
            "image/png": "[encoded data removed]"
          },
          "metadata": {
            "needs_background": "light"
          }
        }
      ]
    },
    {
      "cell_type": "code",
      "source": [
        "scatter(y, df_rows_deleated['Price'])\n",
        "plt.title(\"Rating against Price\")\n",
        "show()"
      ],
      "metadata": {
        "colab": {
          "base_uri": "https://localhost:8080/",
          "height": 281
        },
        "id": "s_Odis0F-r83",
        "outputId": "f05d6eea-e4b9-491b-d9ba-278cb531d158"
      },
      "execution_count": null,
      "outputs": [
        {
          "output_type": "display_data",
          "data": {
            "text/plain": [
              "<Figure size 432x288 with 1 Axes>"
            ],
            "image/png": "[encoded data removed]"
          },
          "metadata": {
            "needs_background": "light"
          }
        }
      ]
    },
    {
      "cell_type": "code",
      "source": [
        "scatter(y, df_rows_deleated['Days since Last Update'])\n",
        "plt.title(\"Rating against Days since Last Update\")\n",
        "show()"
      ],
      "metadata": {
        "colab": {
          "base_uri": "https://localhost:8080/",
          "height": 281
        },
        "id": "a0fjghkQ-uC_",
        "outputId": "125a03e0-e7b0-4cda-fc3d-c7987a66444b"
      },
      "execution_count": null,
      "outputs": [
        {
          "output_type": "display_data",
          "data": {
            "text/plain": [
              "<Figure size 432x288 with 1 Axes>"
            ],
            "image/png": "[encoded data removed]"
          },
          "metadata": {
            "needs_background": "light"
          }
        }
      ]
    },
    {
      "cell_type": "code",
      "source": [
        "scatter(y, df_rows_deleated['Rating'])\n",
        "plt.title(\"Rating against Rating\")\n",
        "show()"
      ],
      "metadata": {
        "colab": {
          "base_uri": "https://localhost:8080/",
          "height": 281
        },
        "id": "Wl6IhkqS-whg",
        "outputId": "8a40f962-fa28-49e6-9ad0-62c61dade8a1"
      },
      "execution_count": null,
      "outputs": [
        {
          "output_type": "display_data",
          "data": {
            "text/plain": [
              "<Figure size 432x288 with 1 Axes>"
            ],
            "image/png": "[encoded data removed]"
          },
          "metadata": {
            "needs_background": "light"
          }
        }
      ]
    },
    {
      "cell_type": "code",
      "source": [
        "# Drop the non-numerical column of the data\n",
        "\n",
        "df1=df_rows_deleated.drop('Category', axis=1)\n",
        "df1"
      ],
      "metadata": {
        "id": "ssWqIDk03aID",
        "colab": {
          "base_uri": "https://localhost:8080/",
          "height": 423
        },
        "outputId": "adaf0351-a6c6-4555-a2f5-0daf2a26c542"
      },
      "execution_count": null,
      "outputs": [
        {
          "output_type": "execute_result",
          "data": {
            "text/plain": [
              "     No Of Reviews  No Of Installs   Size  Price  Days since Last Update  \\\n",
              "0              510            1437  318.0   0.00                      81   \n",
              "1              155            1547  204.0  -0.50                      72   \n",
              "2              273            1162  271.0   0.81                      69   \n",
              "4              261            1403  224.0   1.01                      98   \n",
              "5               68             676  331.0   2.39                      88   \n",
              "..             ...             ...    ...    ...                     ...   \n",
              "495           1213            2205  318.0   0.00                      69   \n",
              "496              4            1826  163.0   1.04                      85   \n",
              "497            453             823  196.0   0.35                      73   \n",
              "498            116            1161  347.0   0.49                      93   \n",
              "499            800            1454  200.0   0.73                     100   \n",
              "\n",
              "     Rating  \n",
              "0      1.94  \n",
              "1      2.07  \n",
              "2      1.34  \n",
              "4      2.80  \n",
              "5      2.67  \n",
              "..      ...  \n",
              "495    2.08  \n",
              "496    3.19  \n",
              "497    1.87  \n",
              "498    2.64  \n",
              "499    3.84  \n",
              "\n",
              "[472 rows x 6 columns]"
            ],
            "text/html": [
              "\n",
              "  <div id=\"df-0512b550-9db8-4703-9025-7a52db11fa02\">\n",
              "    <div class=\"colab-df-container\">\n",
              "      <div>\n",
              "<style scoped>\n",
              "    .dataframe tbody tr th:only-of-type {\n",
              "        vertical-align: middle;\n",
              "    }\n",
              "\n",
              "    .dataframe tbody tr th {\n",
              "        vertical-align: top;\n",
              "    }\n",
              "\n",
              "    .dataframe thead th {\n",
              "        text-align: right;\n",
              "    }\n",
              "</style>\n",
              "<table border=\"1\" class=\"dataframe\">\n",
              "  <thead>\n",
              "    <tr style=\"text-align: right;\">\n",
              "      <th></th>\n",
              "      <th>No Of Reviews</th>\n",
              "      <th>No Of Installs</th>\n",
              "      <th>Size</th>\n",
              "      <th>Price</th>\n",
              "      <th>Days since Last Update</th>\n",
              "      <th>Rating</th>\n",
              "    </tr>\n",
              "  </thead>\n",
              "  <tbody>\n",
              "    <tr>\n",
              "      <th>0</th>\n",
              "      <td>510</td>\n",
              "      <td>1437</td>\n",
              "      <td>318.0</td>\n",
              "      <td>0.00</td>\n",
              "      <td>81</td>\n",
              "      <td>1.94</td>\n",
              "    </tr>\n",
              "    <tr>\n",
              "      <th>1</th>\n",
              "      <td>155</td>\n",
              "      <td>1547</td>\n",
              "      <td>204.0</td>\n",
              "      <td>-0.50</td>\n",
              "      <td>72</td>\n",
              "      <td>2.07</td>\n",
              "    </tr>\n",
              "    <tr>\n",
              "      <th>2</th>\n",
              "      <td>273</td>\n",
              "      <td>1162</td>\n",
              "      <td>271.0</td>\n",
              "      <td>0.81</td>\n",
              "      <td>69</td>\n",
              "      <td>1.34</td>\n",
              "    </tr>\n",
              "    <tr>\n",
              "      <th>4</th>\n",
              "      <td>261</td>\n",
              "      <td>1403</td>\n",
              "      <td>224.0</td>\n",
              "      <td>1.01</td>\n",
              "      <td>98</td>\n",
              "      <td>2.80</td>\n",
              "    </tr>\n",
              "    <tr>\n",
              "      <th>5</th>\n",
              "      <td>68</td>\n",
              "      <td>676</td>\n",
              "      <td>331.0</td>\n",
              "      <td>2.39</td>\n",
              "      <td>88</td>\n",
              "      <td>2.67</td>\n",
              "    </tr>\n",
              "    <tr>\n",
              "      <th>...</th>\n",
              "      <td>...</td>\n",
              "      <td>...</td>\n",
              "      <td>...</td>\n",
              "      <td>...</td>\n",
              "      <td>...</td>\n",
              "      <td>...</td>\n",
              "    </tr>\n",
              "    <tr>\n",
              "      <th>495</th>\n",
              "      <td>1213</td>\n",
              "      <td>2205</td>\n",
              "      <td>318.0</td>\n",
              "      <td>0.00</td>\n",
              "      <td>69</td>\n",
              "      <td>2.08</td>\n",
              "    </tr>\n",
              "    <tr>\n",
              "      <th>496</th>\n",
              "      <td>4</td>\n",
              "      <td>1826</td>\n",
              "      <td>163.0</td>\n",
              "      <td>1.04</td>\n",
              "      <td>85</td>\n",
              "      <td>3.19</td>\n",
              "    </tr>\n",
              "    <tr>\n",
              "      <th>497</th>\n",
              "      <td>453</td>\n",
              "      <td>823</td>\n",
              "      <td>196.0</td>\n",
              "      <td>0.35</td>\n",
              "      <td>73</td>\n",
              "      <td>1.87</td>\n",
              "    </tr>\n",
              "    <tr>\n",
              "      <th>498</th>\n",
              "      <td>116</td>\n",
              "      <td>1161</td>\n",
              "      <td>347.0</td>\n",
              "      <td>0.49</td>\n",
              "      <td>93</td>\n",
              "      <td>2.64</td>\n",
              "    </tr>\n",
              "    <tr>\n",
              "      <th>499</th>\n",
              "      <td>800</td>\n",
              "      <td>1454</td>\n",
              "      <td>200.0</td>\n",
              "      <td>0.73</td>\n",
              "      <td>100</td>\n",
              "      <td>3.84</td>\n",
              "    </tr>\n",
              "  </tbody>\n",
              "</table>\n",
              "<p>472 rows × 6 columns</p>\n",
              "</div>\n",
              "      <button class=\"colab-df-convert\" onclick=\"convertToInteractive('df-0512b550-9db8-4703-9025-7a52db11fa02')\"\n",
              "              title=\"Convert this dataframe to an interactive table.\"\n",
              "              style=\"display:none;\">\n",
              "        \n",
              "  <svg xmlns=\"http://www.w3.org/2000/svg\" height=\"24px\"viewBox=\"0 0 24 24\"\n",
              "       width=\"24px\">\n",
              "    <path d=\"M0 0h24v24H0V0z\" fill=\"none\"/>\n",
              "    <path d=\"M18.56 5.44l.94 2.06.94-2.06 2.06-.94-2.06-.94-.94-2.06-.94 2.06-2.06.94zm-11 1L8.5 8.5l.94-2.06 2.06-.94-2.06-.94L8.5 2.5l-.94 2.06-2.06.94zm10 10l.94 2.06.94-2.06 2.06-.94-2.06-.94-.94-2.06-.94 2.06-2.06.94z\"/><path d=\"M17.41 7.96l-1.37-1.37c-.4-.4-.92-.59-1.43-.59-.52 0-1.04.2-1.43.59L10.3 9.45l-7.72 7.72c-.78.78-.78 2.05 0 2.83L4 21.41c.39.39.9.59 1.41.59.51 0 1.02-.2 1.41-.59l7.78-7.78 2.81-2.81c.8-.78.8-2.07 0-2.86zM5.41 20L4 18.59l7.72-7.72 1.47 1.35L5.41 20z\"/>\n",
              "  </svg>\n",
              "      </button>\n",
              "      \n",
              "  <style>\n",
              "    .colab-df-container {\n",
              "      display:flex;\n",
              "      flex-wrap:wrap;\n",
              "      gap: 12px;\n",
              "    }\n",
              "\n",
              "    .colab-df-convert {\n",
              "      background-color: #E8F0FE;\n",
              "      border: none;\n",
              "      border-radius: 50%;\n",
              "      cursor: pointer;\n",
              "      display: none;\n",
              "      fill: #1967D2;\n",
              "      height: 32px;\n",
              "      padding: 0 0 0 0;\n",
              "      width: 32px;\n",
              "    }\n",
              "\n",
              "    .colab-df-convert:hover {\n",
              "      background-color: #E2EBFA;\n",
              "      box-shadow: 0px 1px 2px rgba(60, 64, 67, 0.3), 0px 1px 3px 1px rgba(60, 64, 67, 0.15);\n",
              "      fill: #174EA6;\n",
              "    }\n",
              "\n",
              "    [theme=dark] .colab-df-convert {\n",
              "      background-color: #3B4455;\n",
              "      fill: #D2E3FC;\n",
              "    }\n",
              "\n",
              "    [theme=dark] .colab-df-convert:hover {\n",
              "      background-color: #434B5C;\n",
              "      box-shadow: 0px 1px 3px 1px rgba(0, 0, 0, 0.15);\n",
              "      filter: drop-shadow(0px 1px 2px rgba(0, 0, 0, 0.3));\n",
              "      fill: #FFFFFF;\n",
              "    }\n",
              "  </style>\n",
              "\n",
              "      <script>\n",
              "        const buttonEl =\n",
              "          document.querySelector('#df-0512b550-9db8-4703-9025-7a52db11fa02 button.colab-df-convert');\n",
              "        buttonEl.style.display =\n",
              "          google.colab.kernel.accessAllowed ? 'block' : 'none';\n",
              "\n",
              "        async function convertToInteractive(key) {\n",
              "          const element = document.querySelector('#df-0512b550-9db8-4703-9025-7a52db11fa02');\n",
              "          const dataTable =\n",
              "            await google.colab.kernel.invokeFunction('convertToInteractive',\n",
              "                                                     [key], {});\n",
              "          if (!dataTable) return;\n",
              "\n",
              "          const docLinkHtml = 'Like what you see? Visit the ' +\n",
              "            '<a target=\"_blank\" href=https://colab.research.google.com/notebooks/data_table.ipynb>data table notebook</a>'\n",
              "            + ' to learn more about interactive tables.';\n",
              "          element.innerHTML = '';\n",
              "          dataTable['output_type'] = 'display_data';\n",
              "          await google.colab.output.renderOutput(dataTable, element);\n",
              "          const docLink = document.createElement('div');\n",
              "          docLink.innerHTML = docLinkHtml;\n",
              "          element.appendChild(docLink);\n",
              "        }\n",
              "      </script>\n",
              "    </div>\n",
              "  </div>\n",
              "  "
            ]
          },
          "metadata": {},
          "execution_count": 48
        }
      ]
    },
    {
      "cell_type": "code",
      "source": [
        "#the numerical columns in Xtrain by importing the StandardScaler class from sklearn.preprocessing\n",
        "\n",
        "from sklearn.preprocessing import StandardScaler\n",
        "scaler = StandardScaler()\n",
        "print(scaler.fit(Xtrain))\n",
        "print(scaler.mean_)\n"
      ],
      "metadata": {
        "colab": {
          "base_uri": "https://localhost:8080/"
        },
        "id": "k1Hq-538HtDw",
        "outputId": "d325f417-ab65-4e8b-aeab-5e8e41ec1502"
      },
      "execution_count": null,
      "outputs": [
        {
          "output_type": "stream",
          "name": "stdout",
          "text": [
            "StandardScaler()\n",
            "[4.16378531e+02 1.46637288e+03 2.50550847e+02 7.93474576e-01\n",
            " 8.36949153e+01]\n"
          ]
        }
      ]
    },
    {
      "cell_type": "code",
      "source": [
        "#  Instantiation a StandardScaler object and assign it to scaler\n",
        "\n",
        "Xtrain_transformed=scaler.transform(Xtrain)\n",
        "print(Xtrain_transformed)\n"
      ],
      "metadata": {
        "colab": {
          "base_uri": "https://localhost:8080/"
        },
        "id": "MqT6jIsBHyBG",
        "outputId": "f0ebd583-696d-43da-a967-46c80300ea43"
      },
      "execution_count": null,
      "outputs": [
        {
          "output_type": "stream",
          "name": "stdout",
          "text": [
            "[[-0.92180493  1.34253692 -0.37152988 -1.0186599  -0.11992736]\n",
            " [-1.07754359 -2.41587655 -0.76865502  1.2664979   1.01218688]\n",
            " [-0.88355333 -1.04935695 -0.120714   -1.0186599   0.5168869 ]\n",
            " ...\n",
            " [-0.74420821 -0.05887254  0.38091776  1.29217383  0.72915832]\n",
            " [-0.79338884 -0.40777116  0.94525349 -0.53081722  0.30461548]\n",
            " [-0.78519207 -1.13076663 -0.82090833  1.34352569  0.37537262]]\n"
          ]
        }
      ]
    },
    {
      "cell_type": "markdown",
      "source": [
        "Step-5: Implementation of respective models"
      ],
      "metadata": {
        "id": "FVH_jIfG3By8"
      }
    },
    {
      "cell_type": "markdown",
      "source": [
        "Model-1: Linear regression"
      ],
      "metadata": {
        "id": "gdLp8U0FkcMa"
      }
    },
    {
      "cell_type": "code",
      "source": [
        "from sklearn.linear_model import LinearRegression\n",
        "modelLR = LinearRegression()\n",
        "modelLR.fit(Xtrain, ytrain)\n",
        "print(modelLR.score(Xtrain_transformed,ytrain))\n"
      ],
      "metadata": {
        "id": "0qa-Gtxk3akp",
        "colab": {
          "base_uri": "https://localhost:8080/"
        },
        "outputId": "e82ca728-06d5-4618-afdf-6b12c2d13c73"
      },
      "execution_count": null,
      "outputs": [
        {
          "output_type": "stream",
          "name": "stdout",
          "text": [
            "-25.066893766378495\n"
          ]
        },
        {
          "output_type": "stream",
          "name": "stderr",
          "text": [
            "/usr/local/lib/python3.7/dist-packages/sklearn/base.py:451: UserWarning: X does not have valid feature names, but LinearRegression was fitted with feature names\n",
            "  \"X does not have valid feature names, but\"\n"
          ]
        }
      ]
    },
    {
      "cell_type": "code",
      "source": [
        "modelLR.coef_"
      ],
      "metadata": {
        "colab": {
          "base_uri": "https://localhost:8080/"
        },
        "id": "CmhOydpjG7kB",
        "outputId": "37ec2bc7-7e47-4c27-8c29-86a845af69ec"
      },
      "execution_count": null,
      "outputs": [
        {
          "output_type": "execute_result",
          "data": {
            "text/plain": [
              "array([[-1.18775809e-04,  8.20769824e-04,  2.69654490e-04,\n",
              "         4.54349490e-01,  3.15957884e-02]])"
            ]
          },
          "metadata": {},
          "execution_count": 51
        }
      ]
    },
    {
      "cell_type": "code",
      "source": [
        " modelLR.intercept_"
      ],
      "metadata": {
        "colab": {
          "base_uri": "https://localhost:8080/"
        },
        "id": "v6GoOB3ZHCRF",
        "outputId": "ec78135f-36c0-43d0-9290-7867e5c5d9bd"
      },
      "execution_count": null,
      "outputs": [
        {
          "output_type": "execute_result",
          "data": {
            "text/plain": [
              "array([-1.71974652])"
            ]
          },
          "metadata": {},
          "execution_count": 52
        }
      ]
    },
    {
      "cell_type": "markdown",
      "source": [
        "Model by using the RMSE and R2 to find out how good your Linear Regression model is:\n",
        "\n",
        "(1) The predicted y values from Xtrain_transformed by using the model.\n",
        "\n",
        "(2) Calculation the RMSE and R2 score for the training set.\n"
      ],
      "metadata": {
        "id": "z3fWEmrS3baJ"
      }
    },
    {
      "cell_type": "code",
      "source": [
        "from sklearn.metrics import mean_squared_error\n",
        "RMSE = mean_squared_error(Xtrain, Xtrain_transformed)\n",
        "print(RMSE)\n",
        "\n",
        "from sklearn.metrics import r2_score\n",
        "r2_score = r2_score(Xtrain, Xtrain_transformed)\n",
        "print(r2_score)"
      ],
      "metadata": {
        "id": "Pb_erXg83i7A",
        "colab": {
          "base_uri": "https://localhost:8080/"
        },
        "outputId": "bbb64960-4841-43be-ae06-c23d76c79ed4"
      },
      "execution_count": null,
      "outputs": [
        {
          "output_type": "stream",
          "name": "stdout",
          "text": [
            "560178.9616433328\n",
            "-10.250183950055888\n"
          ]
        }
      ]
    },
    {
      "cell_type": "code",
      "source": [
        "ytrain_pred=modelLR.predict(Xtrain)\n",
        "scatter(ytrain_pred,ytrain, color=\"blue\")\n",
        "plt.title(\"Linear regression model\")\n",
        "plt.xlabel(\"Training data\")\n",
        "plt.ylabel(\"Predicted rating\")\n",
        "show()\n"
      ],
      "metadata": {
        "id": "2hOGErYc30lh",
        "colab": {
          "base_uri": "https://localhost:8080/",
          "height": 295
        },
        "outputId": "3662bbac-646b-49ad-9116-bd1609ebfa59"
      },
      "execution_count": null,
      "outputs": [
        {
          "output_type": "display_data",
          "data": {
            "text/plain": [
              "<Figure size 432x288 with 1 Axes>"
            ],
            "image/png": "[encoded data removed]"
          },
          "metadata": {
            "needs_background": "light"
          }
        }
      ]
    },
    {
      "cell_type": "code",
      "source": [
        "ytest_pred=modelLR.predict(Xtest)\n",
        "scatter(ytest_pred,ytest, color=\"red\")\n",
        "plt.title(\"Linear regression model\")\n",
        "plt.xlabel(\"Test data\")\n",
        "plt.ylabel(\"Predicted rating\")\n",
        "show()"
      ],
      "metadata": {
        "colab": {
          "base_uri": "https://localhost:8080/",
          "height": 295
        },
        "id": "7cwMpbLkJGMQ",
        "outputId": "cbf13814-9d56-4bd9-bbfe-006b2d0b088a"
      },
      "execution_count": null,
      "outputs": [
        {
          "output_type": "display_data",
          "data": {
            "text/plain": [
              "<Figure size 432x288 with 1 Axes>"
            ],
            "image/png": "[encoded data removed]"
          },
          "metadata": {
            "needs_background": "light"
          }
        }
      ]
    },
    {
      "cell_type": "markdown",
      "source": [
        "\n",
        "Pipeline that does the scaling and LinearRegression\n"
      ],
      "metadata": {
        "id": "DJ71XpQ_32q6"
      }
    },
    {
      "cell_type": "markdown",
      "source": [
        "Train the model using the pipeline\n"
      ],
      "metadata": {
        "id": "aPElTEm535NJ"
      }
    },
    {
      "cell_type": "code",
      "source": [
        "from sklearn.pipeline import Pipeline\n",
        "mypipe = Pipeline([('pLR', LinearRegression())])\n",
        "mypipe.fit(Xtrain,ytrain)"
      ],
      "metadata": {
        "id": "0a9uXDiK37C7",
        "colab": {
          "base_uri": "https://localhost:8080/"
        },
        "outputId": "295e16d6-578b-450b-fb72-312fc1323ee4"
      },
      "execution_count": null,
      "outputs": [
        {
          "output_type": "execute_result",
          "data": {
            "text/plain": [
              "Pipeline(steps=[('pLR', LinearRegression())])"
            ]
          },
          "metadata": {},
          "execution_count": 57
        }
      ]
    },
    {
      "cell_type": "code",
      "source": [
        "print(mypipe.predict(Xtrain))"
      ],
      "metadata": {
        "id": "d80bod8UL_Mg",
        "colab": {
          "base_uri": "https://localhost:8080/"
        },
        "outputId": "eaf75870-b6b2-47ed-9d79-b20d42a93667"
      },
      "execution_count": null,
      "outputs": [
        {
          "output_type": "stream",
          "name": "stdout",
          "text": [
            "[[2.22016678]\n",
            " [1.9857035 ]\n",
            " [2.54048261]\n",
            " [2.27747397]\n",
            " [1.42029311]\n",
            " [3.15342348]\n",
            " [3.52910283]\n",
            " [1.60529305]\n",
            " [2.51531908]\n",
            " [2.03129012]\n",
            " [1.33723083]\n",
            " [2.49496728]\n",
            " [1.93746586]\n",
            " [1.68751273]\n",
            " [3.80241629]\n",
            " [3.32930816]\n",
            " [2.65760375]\n",
            " [2.91377956]\n",
            " [2.04936219]\n",
            " [2.41912057]\n",
            " [1.9961692 ]\n",
            " [1.28777642]\n",
            " [3.22302565]\n",
            " [2.94293285]\n",
            " [2.23000117]\n",
            " [2.43449718]\n",
            " [1.65842498]\n",
            " [1.06779549]\n",
            " [4.02659261]\n",
            " [2.38434326]\n",
            " [3.38314706]\n",
            " [1.33902956]\n",
            " [2.31100375]\n",
            " [2.76844913]\n",
            " [2.89972052]\n",
            " [3.82301119]\n",
            " [2.98743774]\n",
            " [2.31739747]\n",
            " [3.51432917]\n",
            " [1.40292646]\n",
            " [2.56084809]\n",
            " [1.84245787]\n",
            " [2.44929536]\n",
            " [2.90035931]\n",
            " [2.6422923 ]\n",
            " [3.46505402]\n",
            " [3.58794495]\n",
            " [2.80367868]\n",
            " [2.08958296]\n",
            " [2.82571428]\n",
            " [1.61733238]\n",
            " [2.03055813]\n",
            " [2.27231903]\n",
            " [3.6180117 ]\n",
            " [2.71508448]\n",
            " [2.3499537 ]\n",
            " [3.12955698]\n",
            " [2.0292822 ]\n",
            " [2.60817464]\n",
            " [1.24656611]\n",
            " [2.78386485]\n",
            " [3.06418086]\n",
            " [3.10881823]\n",
            " [2.95392281]\n",
            " [1.8250246 ]\n",
            " [2.2819526 ]\n",
            " [3.54873349]\n",
            " [2.33419725]\n",
            " [3.388161  ]\n",
            " [2.97282506]\n",
            " [3.41398308]\n",
            " [1.4342044 ]\n",
            " [1.1091254 ]\n",
            " [0.88153376]\n",
            " [0.94671578]\n",
            " [2.87642529]\n",
            " [0.62081501]\n",
            " [1.85371774]\n",
            " [4.26847095]\n",
            " [2.74088939]\n",
            " [2.03830122]\n",
            " [3.59701255]\n",
            " [0.82265157]\n",
            " [3.07553388]\n",
            " [2.05868158]\n",
            " [3.50828728]\n",
            " [4.45760862]\n",
            " [2.72365625]\n",
            " [2.51037647]\n",
            " [2.75359358]\n",
            " [1.05081985]\n",
            " [2.80403298]\n",
            " [2.83448112]\n",
            " [3.6204582 ]\n",
            " [1.97673235]\n",
            " [1.96231765]\n",
            " [1.4910837 ]\n",
            " [2.20073553]\n",
            " [2.13951868]\n",
            " [3.76952046]\n",
            " [2.67153214]\n",
            " [3.2497639 ]\n",
            " [2.32364129]\n",
            " [3.22779725]\n",
            " [3.28503814]\n",
            " [3.33539159]\n",
            " [2.90609529]\n",
            " [2.7851211 ]\n",
            " [3.07515885]\n",
            " [3.24184046]\n",
            " [1.95176628]\n",
            " [1.79834367]\n",
            " [3.65305636]\n",
            " [3.55433416]\n",
            " [2.22614239]\n",
            " [1.85645014]\n",
            " [2.21804416]\n",
            " [1.61655582]\n",
            " [2.35078749]\n",
            " [2.75278265]\n",
            " [3.34753034]\n",
            " [2.4645996 ]\n",
            " [0.9570506 ]\n",
            " [2.78661098]\n",
            " [2.49986262]\n",
            " [1.78132771]\n",
            " [1.39767566]\n",
            " [1.92899929]\n",
            " [2.75207486]\n",
            " [2.42973474]\n",
            " [3.01491538]\n",
            " [2.99671373]\n",
            " [0.67056023]\n",
            " [3.76100451]\n",
            " [1.91742893]\n",
            " [2.61757145]\n",
            " [3.62439781]\n",
            " [1.24070736]\n",
            " [1.11993595]\n",
            " [1.4124974 ]\n",
            " [2.29583181]\n",
            " [3.05072107]\n",
            " [1.10134813]\n",
            " [2.34404337]\n",
            " [2.40828871]\n",
            " [1.87838809]\n",
            " [3.59325813]\n",
            " [3.11458635]\n",
            " [3.01836913]\n",
            " [2.68041386]\n",
            " [2.47091204]\n",
            " [2.02606293]\n",
            " [1.80455901]\n",
            " [3.51791091]\n",
            " [1.8082447 ]\n",
            " [2.32844033]\n",
            " [3.13674974]\n",
            " [2.74071797]\n",
            " [2.99251477]\n",
            " [2.00778902]\n",
            " [2.44345895]\n",
            " [1.77884861]\n",
            " [1.88424475]\n",
            " [2.80464582]\n",
            " [2.20462198]\n",
            " [1.80234935]\n",
            " [2.99092497]\n",
            " [2.59247938]\n",
            " [2.26447702]\n",
            " [4.76796882]\n",
            " [2.21964317]\n",
            " [1.82500289]\n",
            " [1.91943124]\n",
            " [3.24279393]\n",
            " [2.02608544]\n",
            " [2.39196018]\n",
            " [2.93714674]\n",
            " [2.31146281]\n",
            " [2.4298432 ]\n",
            " [3.46288418]\n",
            " [1.87416511]\n",
            " [2.93911541]\n",
            " [2.50864676]\n",
            " [2.38521693]\n",
            " [2.0924781 ]\n",
            " [2.76801079]\n",
            " [3.25457768]\n",
            " [1.22827027]\n",
            " [1.84232708]\n",
            " [3.22118363]\n",
            " [2.43604178]\n",
            " [2.74189053]\n",
            " [2.68567192]\n",
            " [2.26122029]\n",
            " [0.31095301]\n",
            " [2.49461723]\n",
            " [2.79882796]\n",
            " [3.02893549]\n",
            " [2.74767492]\n",
            " [2.27678664]\n",
            " [2.50805519]\n",
            " [2.82411993]\n",
            " [2.41388075]\n",
            " [1.99539053]\n",
            " [2.21307816]\n",
            " [1.48721756]\n",
            " [1.85180837]\n",
            " [2.90389504]\n",
            " [2.63771851]\n",
            " [1.28442208]\n",
            " [2.60276299]\n",
            " [2.54793029]\n",
            " [2.78282101]\n",
            " [2.33981584]\n",
            " [1.57614395]\n",
            " [2.48053961]\n",
            " [2.64189356]\n",
            " [2.31967419]\n",
            " [2.7381597 ]\n",
            " [1.46881604]\n",
            " [1.7951576 ]\n",
            " [2.22254652]\n",
            " [2.17245976]\n",
            " [1.96444805]\n",
            " [2.00681774]\n",
            " [3.09151417]\n",
            " [3.34205996]\n",
            " [2.53728586]\n",
            " [1.48311768]\n",
            " [2.12896581]\n",
            " [1.52467802]\n",
            " [3.029027  ]\n",
            " [2.89552675]\n",
            " [3.52299665]\n",
            " [3.11495619]\n",
            " [3.46197504]\n",
            " [3.06680673]\n",
            " [2.28848374]\n",
            " [3.32969815]\n",
            " [3.47271305]\n",
            " [1.5199328 ]\n",
            " [2.26028091]\n",
            " [0.21089241]\n",
            " [3.16383387]\n",
            " [4.04204713]\n",
            " [1.86232535]\n",
            " [2.15846254]\n",
            " [1.12582175]\n",
            " [1.57873742]\n",
            " [2.66163284]\n",
            " [2.32185074]\n",
            " [4.51453714]\n",
            " [2.83903388]\n",
            " [2.38904688]\n",
            " [1.62387825]\n",
            " [4.07535764]\n",
            " [2.36648095]\n",
            " [2.63303639]\n",
            " [2.35832593]\n",
            " [3.63868797]\n",
            " [1.75733274]\n",
            " [3.3716382 ]\n",
            " [3.09576355]\n",
            " [2.52036281]\n",
            " [2.69704334]\n",
            " [2.92896173]\n",
            " [3.01943654]\n",
            " [2.89906134]\n",
            " [3.12065279]\n",
            " [2.39187047]\n",
            " [2.59240692]\n",
            " [1.6352414 ]\n",
            " [3.28842715]\n",
            " [1.61526286]\n",
            " [0.18098215]\n",
            " [2.36122454]\n",
            " [3.54623963]\n",
            " [2.51161061]\n",
            " [3.76146109]\n",
            " [2.3627851 ]\n",
            " [2.06051547]\n",
            " [1.4332069 ]\n",
            " [2.94246491]\n",
            " [2.8456368 ]\n",
            " [2.43978072]\n",
            " [2.18870544]\n",
            " [2.12525711]\n",
            " [3.41998814]\n",
            " [2.79660006]\n",
            " [1.77160056]\n",
            " [1.93898842]\n",
            " [2.75417194]\n",
            " [0.87835686]\n",
            " [3.6906551 ]\n",
            " [1.93846112]\n",
            " [1.95963682]\n",
            " [2.49256092]\n",
            " [2.198637  ]\n",
            " [2.93960861]\n",
            " [3.45350626]\n",
            " [4.05269758]\n",
            " [2.0113414 ]\n",
            " [3.06394135]\n",
            " [1.7959309 ]\n",
            " [1.29696054]\n",
            " [3.08861563]\n",
            " [2.29733516]\n",
            " [1.39061969]\n",
            " [2.15863713]\n",
            " [2.40804319]\n",
            " [3.12836154]\n",
            " [1.33926351]\n",
            " [0.91216365]\n",
            " [1.38110744]\n",
            " [3.8530176 ]\n",
            " [1.85623275]\n",
            " [1.6061618 ]\n",
            " [4.58515587]\n",
            " [4.38840273]\n",
            " [2.30669883]\n",
            " [1.14999698]\n",
            " [3.33959484]\n",
            " [3.93845899]\n",
            " [1.77261159]\n",
            " [3.0661316 ]\n",
            " [3.01959411]\n",
            " [1.97414886]\n",
            " [2.92833975]\n",
            " [3.28145192]\n",
            " [1.70053487]\n",
            " [2.16923844]\n",
            " [3.51687874]\n",
            " [3.40783066]\n",
            " [3.54496803]\n",
            " [2.42623848]\n",
            " [1.83941439]\n",
            " [3.87153924]\n",
            " [2.1740579 ]\n",
            " [2.13184684]\n",
            " [2.68968802]\n",
            " [4.003479  ]\n",
            " [5.13070608]\n",
            " [1.813061  ]\n",
            " [3.27529016]\n",
            " [1.57714392]\n",
            " [2.45387772]\n",
            " [3.76772661]\n",
            " [2.14586761]\n",
            " [2.53844109]\n",
            " [2.55919743]\n",
            " [1.29453087]\n",
            " [1.92743299]\n",
            " [2.60337299]\n",
            " [2.72769912]]\n"
          ]
        }
      ]
    },
    {
      "cell_type": "code",
      "source": [
        ""
      ],
      "metadata": {
        "id": "EabloVIzDoJh"
      },
      "execution_count": null,
      "outputs": []
    },
    {
      "cell_type": "markdown",
      "source": [
        "5-fold cross-validation on your data using the pipeline."
      ],
      "metadata": {
        "id": "g4JEgdGP37V5"
      }
    },
    {
      "cell_type": "code",
      "source": [
        "from sklearn.model_selection import cross_val_score\n",
        "print(cross_val_score(mypipe,  Xtrain, ytrain, cv=5, scoring=\"neg_root_mean_squared_error\"))"
      ],
      "metadata": {
        "id": "Mq0rOf7G39-Q",
        "colab": {
          "base_uri": "https://localhost:8080/"
        },
        "outputId": "17335e05-3473-42b2-ccfd-c1e4cfc7863e"
      },
      "execution_count": null,
      "outputs": [
        {
          "output_type": "stream",
          "name": "stdout",
          "text": [
            "[-0.42081706 -1.02483103 -0.39614096 -0.42034396 -0.32370278]\n"
          ]
        }
      ]
    },
    {
      "cell_type": "markdown",
      "source": [
        "Model-2: Random Forest Regressor"
      ],
      "metadata": {
        "id": "7d13aGfdktzr"
      }
    },
    {
      "cell_type": "code",
      "source": [
        "#using RandomForest\n",
        "\n",
        "from sklearn.ensemble import RandomForestRegressor\n",
        "modelRF=RandomForestRegressor()\n",
        "modelRF.fit(Xtest,ytest)\n",
        "#print(modelRF.score(Xtest,ytest))\n",
        "#modelRF.predict(Xtest[:8])\n",
        "#print(modelRF.predict([[25]]))"
      ],
      "metadata": {
        "id": "BMuaOp-K4UA8",
        "colab": {
          "base_uri": "https://localhost:8080/"
        },
        "outputId": "0635b43b-df20-4a77-8df7-25e2b645575e"
      },
      "execution_count": null,
      "outputs": [
        {
          "output_type": "stream",
          "name": "stderr",
          "text": [
            "/usr/local/lib/python3.7/dist-packages/ipykernel_launcher.py:5: DataConversionWarning: A column-vector y was passed when a 1d array was expected. Please change the shape of y to (n_samples,), for example using ravel().\n",
            "  \"\"\"\n"
          ]
        },
        {
          "output_type": "execute_result",
          "data": {
            "text/plain": [
              "RandomForestRegressor()"
            ]
          },
          "metadata": {},
          "execution_count": 38
        }
      ]
    },
    {
      "cell_type": "code",
      "source": [
        "ytrain_pred=modelRF.predict(Xtrain)\n",
        "scatter(ytrain_pred,ytrain, color=\"blue\")\n",
        "plt.title(\"Random Forest\")\n",
        "plt.xlabel(\"Training data\")\n",
        "plt.ylabel(\"Predicted rating\")\n",
        "show()\n"
      ],
      "metadata": {
        "colab": {
          "base_uri": "https://localhost:8080/",
          "height": 294
        },
        "id": "6jle60Pi8dtL",
        "outputId": "e901afa5-621e-4a1a-8764-094ec1e71cd9"
      },
      "execution_count": null,
      "outputs": [
        {
          "output_type": "display_data",
          "data": {
            "text/plain": [
              "<Figure size 432x288 with 1 Axes>"
            ],
            "image/png": "[encoded data removed]"
          },
          "metadata": {
            "needs_background": "light"
          }
        }
      ]
    },
    {
      "cell_type": "code",
      "source": [
        "ytrain_pred=modelRF.predict(Xtrain)\n",
        "scatter(ytest_pred,ytest, color=\"red\")\n",
        "plt.title(\"Random Forest\")\n",
        "plt.xlabel(\"Test data\")\n",
        "plt.ylabel(\"Predicted rating\")\n",
        "show()\n"
      ],
      "metadata": {
        "colab": {
          "base_uri": "https://localhost:8080/",
          "height": 294
        },
        "id": "tuxyc6r04O6J",
        "outputId": "fa23f440-4021-4b27-e51b-8cb154437b0a"
      },
      "execution_count": null,
      "outputs": [
        {
          "output_type": "display_data",
          "data": {
            "text/plain": [
              "<Figure size 432x288 with 1 Axes>"
            ],
            "image/png": "[encoded data removed]"
          },
          "metadata": {
            "needs_background": "light"
          }
        }
      ]
    },
    {
      "cell_type": "markdown",
      "source": [
        "Model-3: Neural Network"
      ],
      "metadata": {
        "id": "rXwJZC0ck47-"
      }
    },
    {
      "cell_type": "code",
      "source": [
        "from sklearn.neural_network import MLPRegressor\n",
        "regr = MLPRegressor(random_state=1, max_iter=500)\n",
        "regr.fit(Xtest, ytest)\n"
      ],
      "metadata": {
        "colab": {
          "base_uri": "https://localhost:8080/"
        },
        "id": "jKLa6Ge_clnJ",
        "outputId": "92c536f2-2b41-49ad-b1cb-e765d202afff"
      },
      "execution_count": null,
      "outputs": [
        {
          "output_type": "stream",
          "name": "stderr",
          "text": [
            "/usr/local/lib/python3.7/dist-packages/sklearn/neural_network/_multilayer_perceptron.py:1599: DataConversionWarning: A column-vector y was passed when a 1d array was expected. Please change the shape of y to (n_samples, ), for example using ravel().\n",
            "  y = column_or_1d(y, warn=True)\n",
            "/usr/local/lib/python3.7/dist-packages/sklearn/neural_network/_multilayer_perceptron.py:696: ConvergenceWarning: Stochastic Optimizer: Maximum iterations (500) reached and the optimization hasn't converged yet.\n",
            "  ConvergenceWarning,\n"
          ]
        },
        {
          "output_type": "execute_result",
          "data": {
            "text/plain": [
              "MLPRegressor(max_iter=500, random_state=1)"
            ]
          },
          "metadata": {},
          "execution_count": 60
        }
      ]
    },
    {
      "cell_type": "code",
      "source": [
        "ytrain_pred=regr.predict(Xtrain)\n",
        "scatter(ytrain_pred,ytrain, color=\"blue\")\n",
        "plt.title(\"Neural Network\")\n",
        "plt.xlabel(\"Training data\")\n",
        "plt.ylabel(\"Predicted rating\")\n",
        "show()\n"
      ],
      "metadata": {
        "colab": {
          "base_uri": "https://localhost:8080/",
          "height": 295
        },
        "id": "nWlU8v0-n0o7",
        "outputId": "f6d5424e-1797-4569-e0ce-1afe0ce248c5"
      },
      "execution_count": null,
      "outputs": [
        {
          "output_type": "display_data",
          "data": {
            "text/plain": [
              "<Figure size 432x288 with 1 Axes>"
            ],
            "image/png": "[encoded data removed]"
          },
          "metadata": {
            "needs_background": "light"
          }
        }
      ]
    },
    {
      "cell_type": "code",
      "source": [
        "ytrain_pred=regr.predict(Xtrain)\n",
        "scatter(ytest_pred,ytest, color=\"red\")\n",
        "plt.title(\"Neural Network\")\n",
        "plt.xlabel(\"Test data\")\n",
        "plt.ylabel(\"Predicted rating\")\n",
        "show()"
      ],
      "metadata": {
        "colab": {
          "base_uri": "https://localhost:8080/",
          "height": 295
        },
        "id": "HUg7Z1bUn1e4",
        "outputId": "51e5ff56-9738-4fd8-f2ce-2405da0afc36"
      },
      "execution_count": null,
      "outputs": [
        {
          "output_type": "display_data",
          "data": {
            "text/plain": [
              "<Figure size 432x288 with 1 Axes>"
            ],
            "image/png": "[encoded data removed]"
          },
          "metadata": {
            "needs_background": "light"
          }
        }
      ]
    }
  ]
}